{
 "cells": [
  {
   "cell_type": "markdown",
   "metadata": {},
   "source": [
    "# Inliner tutorial\n",
    "\n",
    "This notebook will walk you through the basic usage of the inliner tool. To set up the example, we have a simple library in `tutorial.py`."
   ]
  },
  {
   "cell_type": "code",
   "execution_count": null,
   "metadata": {
    "ExecuteTime": {
     "end_time": "2020-01-08T19:38:25.199088Z",
     "start_time": "2020-01-08T19:38:25.196278Z"
    }
   },
   "outputs": [],
   "source": [
    "from tutorial import example"
   ]
  },
  {
   "cell_type": "markdown",
   "metadata": {},
   "source": [
    "This library contains a single function `example`:"
   ]
  },
  {
   "cell_type": "code",
   "execution_count": null,
   "metadata": {
    "ExecuteTime": {
     "end_time": "2020-01-08T19:36:02.959734Z",
     "start_time": "2020-01-08T19:36:02.955569Z"
    }
   },
   "outputs": [],
   "source": [
    "import inspect\n",
    "print(inspect.getsource(example))"
   ]
  },
  {
   "cell_type": "markdown",
   "metadata": {},
   "source": [
    "Here are some examples of using the function."
   ]
  },
  {
   "cell_type": "code",
   "execution_count": null,
   "metadata": {
    "ExecuteTime": {
     "end_time": "2020-01-08T19:36:38.550860Z",
     "start_time": "2020-01-08T19:36:38.545401Z"
    }
   },
   "outputs": [],
   "source": [
    "print(example(x=1))\n",
    "print(example(x=2))\n",
    "print(example(x=2, flag=True))"
   ]
  },
  {
   "cell_type": "markdown",
   "metadata": {},
   "source": [
    "The purpose of the inlining tool is to expand/inline library calls like the `example` function above. It takes a Jupyter code cell, and repeatedly inlines functions from modules you have selected. Highlight the code cell below, then click the \"i\" button in the Inliner panel on the right."
   ]
  },
  {
   "cell_type": "code",
   "execution_count": null,
   "metadata": {
    "ExecuteTime": {
     "end_time": "2020-01-08T19:37:18.306649Z",
     "start_time": "2020-01-08T19:37:18.303537Z"
    }
   },
   "outputs": [],
   "source": [
    "x = 2\n",
    "assert example(x) == 4"
   ]
  },
  {
   "cell_type": "markdown",
   "metadata": {},
   "source": [
    "For the purposes of this experiment, you should only need the `Simplify` pass, not any of the more specialized passes.\n",
    "\n",
    "As a more extended example, try running the inliner on the `shutil.copyfile` function from the Python standard library."
   ]
  },
  {
   "cell_type": "code",
   "execution_count": 1,
   "metadata": {
    "ExecuteTime": {
     "end_time": "2020-01-22T01:04:25.579717Z",
     "start_time": "2020-01-22T01:04:25.575496Z"
    }
   },
   "outputs": [],
   "source": [
    "import shutil, pathlib\n",
    "pathlib.Path('/tmp/foo.txt').touch()"
   ]
  },
  {
   "cell_type": "code",
   "execution_count": null,
   "metadata": {
    "ExecuteTime": {
     "end_time": "2020-01-08T20:50:13.901203Z",
     "start_time": "2020-01-08T20:50:13.890282Z"
    }
   },
   "outputs": [],
   "source": [
    "shutil.copyfile('/tmp/foo.txt', '/tmp/bar.txt')"
   ]
  }
 ],
 "metadata": {
  "kernelspec": {
   "display_name": "Python 3",
   "language": "python",
   "name": "python3"
  },
  "language_info": {
   "codemirror_mode": {
    "name": "ipython",
    "version": 3
   },
   "file_extension": ".py",
   "mimetype": "text/x-python",
   "name": "python",
   "nbconvert_exporter": "python",
   "pygments_lexer": "ipython3",
   "version": "3.7.3"
  },
  "toc": {
   "base_numbering": 1,
   "nav_menu": {},
   "number_sections": true,
   "sideBar": true,
   "skip_h1_title": false,
   "title_cell": "Table of Contents",
   "title_sidebar": "Contents",
   "toc_cell": false,
   "toc_position": {},
   "toc_section_display": true,
   "toc_window_display": false
  },
  "varInspector": {
   "cols": {
    "lenName": 16,
    "lenType": 16,
    "lenVar": 40
   },
   "kernels_config": {
    "python": {
     "delete_cmd_postfix": "",
     "delete_cmd_prefix": "del ",
     "library": "var_list.py",
     "varRefreshCmd": "print(var_dic_list())"
    },
    "r": {
     "delete_cmd_postfix": ") ",
     "delete_cmd_prefix": "rm(",
     "library": "var_list.r",
     "varRefreshCmd": "cat(var_dic_list()) "
    }
   },
   "types_to_exclude": [
    "module",
    "function",
    "builtin_function_or_method",
    "instance",
    "_Feature"
   ],
   "window_display": false
  }
 },
 "nbformat": 4,
 "nbformat_minor": 2
}
