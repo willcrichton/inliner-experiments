{
 "cells": [
  {
   "cell_type": "markdown",
   "metadata": {},
   "source": [
    "# Click \"Cell > Run All\" after opening this notebook.\n",
    "\n",
    "The cell below shows the setup code for the experiment. We will be using the Seaborn and Matplotlib modules, as well as the \"tips\" dataset from Seaborn. The dataframe is shown in the output of the cell below.\n",
    "\n",
    "Note that the `%autoreload` means that if you make any changes in `./deps/seaborn`, they will be automatically propagated to this notebook without restarting."
   ]
  },
  {
   "cell_type": "code",
   "execution_count": 1,
   "metadata": {
    "ExecuteTime": {
     "end_time": "2020-01-22T05:34:45.836517Z",
     "start_time": "2020-01-22T05:34:44.356899Z"
    }
   },
   "outputs": [
    {
     "data": {
      "text/html": [
       "<div>\n",
       "<style scoped>\n",
       "    .dataframe tbody tr th:only-of-type {\n",
       "        vertical-align: middle;\n",
       "    }\n",
       "\n",
       "    .dataframe tbody tr th {\n",
       "        vertical-align: top;\n",
       "    }\n",
       "\n",
       "    .dataframe thead th {\n",
       "        text-align: right;\n",
       "    }\n",
       "</style>\n",
       "<table border=\"1\" class=\"dataframe\">\n",
       "  <thead>\n",
       "    <tr style=\"text-align: right;\">\n",
       "      <th></th>\n",
       "      <th>total_bill</th>\n",
       "      <th>tip</th>\n",
       "      <th>sex</th>\n",
       "      <th>smoker</th>\n",
       "      <th>day</th>\n",
       "      <th>time</th>\n",
       "      <th>size</th>\n",
       "    </tr>\n",
       "  </thead>\n",
       "  <tbody>\n",
       "    <tr>\n",
       "      <th>0</th>\n",
       "      <td>16.99</td>\n",
       "      <td>1.01</td>\n",
       "      <td>Female</td>\n",
       "      <td>No</td>\n",
       "      <td>Sun</td>\n",
       "      <td>Dinner</td>\n",
       "      <td>2</td>\n",
       "    </tr>\n",
       "    <tr>\n",
       "      <th>1</th>\n",
       "      <td>10.34</td>\n",
       "      <td>1.66</td>\n",
       "      <td>Male</td>\n",
       "      <td>No</td>\n",
       "      <td>Sun</td>\n",
       "      <td>Dinner</td>\n",
       "      <td>3</td>\n",
       "    </tr>\n",
       "    <tr>\n",
       "      <th>2</th>\n",
       "      <td>21.01</td>\n",
       "      <td>3.50</td>\n",
       "      <td>Male</td>\n",
       "      <td>No</td>\n",
       "      <td>Sun</td>\n",
       "      <td>Dinner</td>\n",
       "      <td>3</td>\n",
       "    </tr>\n",
       "    <tr>\n",
       "      <th>3</th>\n",
       "      <td>23.68</td>\n",
       "      <td>3.31</td>\n",
       "      <td>Male</td>\n",
       "      <td>No</td>\n",
       "      <td>Sun</td>\n",
       "      <td>Dinner</td>\n",
       "      <td>2</td>\n",
       "    </tr>\n",
       "    <tr>\n",
       "      <th>4</th>\n",
       "      <td>24.59</td>\n",
       "      <td>3.61</td>\n",
       "      <td>Female</td>\n",
       "      <td>No</td>\n",
       "      <td>Sun</td>\n",
       "      <td>Dinner</td>\n",
       "      <td>4</td>\n",
       "    </tr>\n",
       "    <tr>\n",
       "      <th>...</th>\n",
       "      <td>...</td>\n",
       "      <td>...</td>\n",
       "      <td>...</td>\n",
       "      <td>...</td>\n",
       "      <td>...</td>\n",
       "      <td>...</td>\n",
       "      <td>...</td>\n",
       "    </tr>\n",
       "    <tr>\n",
       "      <th>239</th>\n",
       "      <td>29.03</td>\n",
       "      <td>5.92</td>\n",
       "      <td>Male</td>\n",
       "      <td>No</td>\n",
       "      <td>Sat</td>\n",
       "      <td>Dinner</td>\n",
       "      <td>3</td>\n",
       "    </tr>\n",
       "    <tr>\n",
       "      <th>240</th>\n",
       "      <td>27.18</td>\n",
       "      <td>2.00</td>\n",
       "      <td>Female</td>\n",
       "      <td>Yes</td>\n",
       "      <td>Sat</td>\n",
       "      <td>Dinner</td>\n",
       "      <td>2</td>\n",
       "    </tr>\n",
       "    <tr>\n",
       "      <th>241</th>\n",
       "      <td>22.67</td>\n",
       "      <td>2.00</td>\n",
       "      <td>Male</td>\n",
       "      <td>Yes</td>\n",
       "      <td>Sat</td>\n",
       "      <td>Dinner</td>\n",
       "      <td>2</td>\n",
       "    </tr>\n",
       "    <tr>\n",
       "      <th>242</th>\n",
       "      <td>17.82</td>\n",
       "      <td>1.75</td>\n",
       "      <td>Male</td>\n",
       "      <td>No</td>\n",
       "      <td>Sat</td>\n",
       "      <td>Dinner</td>\n",
       "      <td>2</td>\n",
       "    </tr>\n",
       "    <tr>\n",
       "      <th>243</th>\n",
       "      <td>18.78</td>\n",
       "      <td>3.00</td>\n",
       "      <td>Female</td>\n",
       "      <td>No</td>\n",
       "      <td>Thur</td>\n",
       "      <td>Dinner</td>\n",
       "      <td>2</td>\n",
       "    </tr>\n",
       "  </tbody>\n",
       "</table>\n",
       "<p>244 rows × 7 columns</p>\n",
       "</div>"
      ],
      "text/plain": [
       "     total_bill   tip     sex smoker   day    time  size\n",
       "0         16.99  1.01  Female     No   Sun  Dinner     2\n",
       "1         10.34  1.66    Male     No   Sun  Dinner     3\n",
       "2         21.01  3.50    Male     No   Sun  Dinner     3\n",
       "3         23.68  3.31    Male     No   Sun  Dinner     2\n",
       "4         24.59  3.61  Female     No   Sun  Dinner     4\n",
       "..          ...   ...     ...    ...   ...     ...   ...\n",
       "239       29.03  5.92    Male     No   Sat  Dinner     3\n",
       "240       27.18  2.00  Female    Yes   Sat  Dinner     2\n",
       "241       22.67  2.00    Male    Yes   Sat  Dinner     2\n",
       "242       17.82  1.75    Male     No   Sat  Dinner     2\n",
       "243       18.78  3.00  Female     No  Thur  Dinner     2\n",
       "\n",
       "[244 rows x 7 columns]"
      ]
     },
     "execution_count": 1,
     "metadata": {},
     "output_type": "execute_result"
    }
   ],
   "source": [
    "%load_ext autoreload\n",
    "%autoreload 2\n",
    "\n",
    "import seaborn as sns\n",
    "import matplotlib.pyplot as plt\n",
    "\n",
    "tips = sns.load_dataset('tips')\n",
    "tips"
   ]
  },
  {
   "cell_type": "code",
   "execution_count": 2,
   "metadata": {
    "ExecuteTime": {
     "end_time": "2020-01-22T05:34:46.106064Z",
     "start_time": "2020-01-22T05:34:45.884233Z"
    }
   },
   "outputs": [
    {
     "data": {
      "text/plain": [
       "<matplotlib.axes._subplots.AxesSubplot at 0x1259ea4a8>"
      ]
     },
     "execution_count": 2,
     "metadata": {},
     "output_type": "execute_result"
    },
    {
     "data": {
      "image/png": "[encoded data removed]",
      "text/plain": [
       "<Figure size 432x288 with 1 Axes>"
      ]
     },
     "metadata": {
      "needs_background": "light"
     },
     "output_type": "display_data"
    }
   ],
   "source": [
    "# Example snippet: Scatterplot\n",
    "sns.scatterplot(x=tips.total_bill, y=tips.tip)"
   ]
  },
  {
   "cell_type": "code",
   "execution_count": null,
   "metadata": {},
   "outputs": [],
   "source": [
    "import matplotlib.pyplot as plt\n",
    "import pandas as pd\n",
    "import numpy as np\n",
    "import matplotlib as mpl\n",
    "\n",
    "# sns.scatterplot(x=tips.total_bill, y=tips.tip)\n",
    "\n",
    "# _ScatterPlotter(_ScatterPlotter_ret, x=tips.total_bill, y=tips.tip, hue=\n",
    "#     None, style=None, size=None, data=None, palette=None, hue_order=None,\n",
    "#     hue_norm=None, sizes=None, size_order=None, size_norm=None, markers=\n",
    "#     True, style_order=None, x_bins=None, y_bins=None, estimator=None, ci=95,\n",
    "#     n_boot=1000, alpha='auto', x_jitter=None, y_jitter=None, legend='brief')\n",
    "\n",
    "# _ScatterPlotter.establish_variables(_ScatterPlotter_ret, tips.total_bill,\n",
    "#     tips.tip, None, None, None, None, None)\n",
    "x_label = y_label = hue_label = size_label = style_label = None\n",
    "x_label = getattr(tips.total_bill, 'name', None)\n",
    "y_label = getattr(tips.tip, 'name', None)\n",
    "hue_label = getattr(None, 'name', None)\n",
    "size_label = getattr(None, 'name', None)\n",
    "style_label = getattr(None, 'name', None)\n",
    "plot_data = dict(x=tips.total_bill, y=tips.tip, hue=None, style=None, size=\n",
    "    None, units=None)\n",
    "plot_data = pd.DataFrame(plot_data)\n",
    "plot_valid = plot_data.notnull().any()\n",
    "semantics = ['x', 'y'] + [name for name in ['hue', 'size', 'style'] if\n",
    "    plot_valid[name]]\n",
    "_default_size_range = np.r_[0.5, 2] * np.square(mpl.rcParams[\n",
    "    'lines.markersize'])\n",
    "\n",
    "# _ScatterPlotter.parse_hue(_ScatterPlotter_ret, plot_data['hue'], None, None,\n",
    "#     None)\n",
    "data = plot_data['hue']\n",
    "\n",
    "# _ScatterPlotter.parse_size(_ScatterPlotter_ret, plot_data['size'], None,\n",
    "#     None, None)\n",
    "data_2 = plot_data['size']\n",
    "\n",
    "# _ScatterPlotter.parse_style(_ScatterPlotter_ret, plot_data['style'], True,\n",
    "#     None, None)\n",
    "data_3 = plot_data['style']\n",
    "ax = plt.gca()\n",
    "\n",
    "# _ScatterPlotter.plot(_ScatterPlotter_ret, ax, {})\n",
    "kws = {}\n",
    "scout = ax.scatter([], [], **kws)\n",
    "s = kws.pop('s', scout.get_sizes())\n",
    "c = kws.pop('c', scout.get_facecolors())\n",
    "scout.remove()\n",
    "kws.pop('color', None)\n",
    "kws.setdefault('linewidth', 0.75)\n",
    "kws.setdefault('edgecolor', 'w')\n",
    "kws['alpha'] = 1\n",
    "data_4 = plot_data[semantics].dropna()\n",
    "x = data_4['x']\n",
    "y = data_4['y']\n",
    "args = np.asarray(x), np.asarray(y), np.asarray(s), np.asarray(c)\n",
    "points = ax.scatter(*args, **kws)\n",
    "\n",
    "# _ScatterPlotter.label_axes(_ScatterPlotter_ret, ax)\n",
    "x_visible = any(t.get_visible() for t in ax.get_xticklabels())\n",
    "ax.set_xlabel(x_label, visible=x_visible)\n",
    "y_visible = any(t.get_visible() for t in ax.get_yticklabels())\n",
    "ax.set_ylabel(y_label, visible=y_visible)\n",
    "\n",
    "# _ScatterPlotter.add_legend_data(_ScatterPlotter_ret, ax)\n",
    "title_kws = dict(color='w', s=0, linewidth=0, marker='', dashes='')\n",
    "func = getattr(ax, 'scatter')\n",
    "handles, _ = ax.get_legend_handles_labels()"
   ]
  },
  {
   "cell_type": "code",
   "execution_count": 4,
   "metadata": {
    "ExecuteTime": {
     "end_time": "2020-01-21T03:25:36.650687Z",
     "start_time": "2020-01-21T03:25:36.448491Z"
    }
   },
   "outputs": [
    {
     "data": {
      "text/plain": [
       "<matplotlib.axes._subplots.AxesSubplot at 0x1217f65c0>"
      ]
     },
     "execution_count": 4,
     "metadata": {},
     "output_type": "execute_result"
    },
    {
     "data": {
      "image/png": "[encoded data removed]",
      "text/plain": [
       "<Figure size 432x288 with 1 Axes>"
      ]
     },
     "metadata": {
      "needs_background": "light"
     },
     "output_type": "display_data"
    }
   ],
   "source": [
    "# Snippet 1: Boxplot\n",
    "sns.boxplot(x=tips.day, y=tips.tip)"
   ]
  },
  {
   "cell_type": "code",
   "execution_count": null,
   "metadata": {},
   "outputs": [],
   "source": [
    "import matplotlib.pyplot as plt\n",
    "from seaborn.utils import categorical_order\n",
    "import colorsys\n",
    "from seaborn.palettes import color_palette\n",
    "from seaborn import utils\n",
    "import pandas as pd\n",
    "from seaborn.utils import remove_na\n",
    "import matplotlib as mpl\n",
    "import numpy as np\n",
    "\n",
    "# sns.boxplot(x=tips.day, y=tips.tip)\n",
    "\n",
    "# _BoxPlotter(_BoxPlotter_ret, tips.day, tips.tip, None, None, None, None,\n",
    "#     None, None, None, 0.75, 0.8, True, 5, None)\n",
    "\n",
    "# _BoxPlotter.establish_variables(_BoxPlotter_ret, tips.day, tips.tip, None,\n",
    "#     None, None, None, None)\n",
    "\n",
    "# _BoxPlotter.infer_orient(_BoxPlotter_ret, tips.day, tips.tip, orient)\n",
    "group_names = categorical_order(tips.day, None)\n",
    "\n",
    "# _BoxPlotter._group_longform(_BoxPlotter_ret, vals, groups, group_names)\n",
    "grouped_vals = tips.tip.groupby(tips.day)\n",
    "out_data = []\n",
    "for g in group_names:\n",
    "    g_vals = np.asarray(grouped_vals.get_group(g))\n",
    "    out_data.append(g_vals)\n",
    "\n",
    "# _BoxPlotter.establish_colors(_BoxPlotter_ret, None, None, 0.75)\n",
    "n_colors = len(out_data)\n",
    "current_palette = utils.get_color_cycle()\n",
    "colors = color_palette(n_colors=n_colors)\n",
    "colors = color_palette(colors, desat=0.75)\n",
    "rgb_colors = color_palette(colors)\n",
    "light_vals = [colorsys.rgb_to_hls(*c)[1] for c in rgb_colors]\n",
    "lum = min(light_vals) * 0.6\n",
    "gray = mpl.colors.rgb2hex((lum, lum, lum))\n",
    "linewidth = mpl.rcParams['lines.linewidth']\n",
    "ax = plt.gca()\n",
    "\n",
    "# _BoxPlotter.plot(_BoxPlotter_ret, ax, {})\n",
    "\n",
    "# _BoxPlotter.draw_boxplot(_BoxPlotter_ret, ax, {})\n",
    "kws = {}\n",
    "props = {}\n",
    "for obj in ['box', 'whisker', 'cap', 'median', 'flier']:\n",
    "    props[obj] = kws.pop(obj + 'props', {})\n",
    "for i, group_data in enumerate(out_data):\n",
    "    box_data = remove_na(group_data)\n",
    "    artist_dict = ax.boxplot(box_data, vert=True, patch_artist=True,\n",
    "        positions=[i], widths=0.8)\n",
    "    color = rgb_colors[i]\n",
    "\n",
    "    # _BoxPlotter.restyle_boxplot(_BoxPlotter_ret, artist_dict, color, props)\n",
    "    for box in artist_dict['boxes']:\n",
    "        box.update(dict(facecolor=color, zorder=0.9, edgecolor=gray,\n",
    "            linewidth=linewidth))\n",
    "        box.update(props['box'])\n",
    "    for whisk in artist_dict['whiskers']:\n",
    "        whisk.update(dict(color=gray, linewidth=linewidth, linestyle='-'))\n",
    "        whisk.update(props['whisker'])\n",
    "    for cap in artist_dict['caps']:\n",
    "        cap.update(dict(color=gray, linewidth=linewidth))\n",
    "        cap.update(props['cap'])\n",
    "    for med in artist_dict['medians']:\n",
    "        med.update(dict(color=gray, linewidth=linewidth))\n",
    "        med.update(props['median'])\n",
    "    for fly in artist_dict['fliers']:\n",
    "        fly.update(dict(markerfacecolor=gray, marker='d', markeredgecolor=\n",
    "            gray, markersize=5))\n",
    "        fly.update(props['flier'])\n",
    "\n",
    "# _BoxPlotter.annotate_axes(_BoxPlotter_ret, ax)\n",
    "ax.set_xlabel(tips.day.name)\n",
    "ax.set_ylabel(tips.tip.name)\n",
    "ax.set_xticks(np.arange(len(out_data)))\n",
    "ax.set_xticklabels(group_names)\n",
    "ax.xaxis.grid(False)\n",
    "ax.set_xlim(-0.5, len(out_data) - 0.5, auto=None)"
   ]
  },
  {
   "cell_type": "code",
   "execution_count": 5,
   "metadata": {
    "ExecuteTime": {
     "end_time": "2020-01-21T03:25:38.368531Z",
     "start_time": "2020-01-21T03:25:36.652454Z"
    }
   },
   "outputs": [
    {
     "data": {
      "text/plain": [
       "<seaborn.axisgrid.FacetGrid at 0x1219aa668>"
      ]
     },
     "execution_count": 5,
     "metadata": {},
     "output_type": "execute_result"
    },
    {
     "data": {
      "image/png": "[encoded data removed]",
      "text/plain": [
       "<Figure size 864x432 with 8 Axes>"
      ]
     },
     "metadata": {
      "needs_background": "light"
     },
     "output_type": "display_data"
    }
   ],
   "source": [
    "# Snippet 2: FacetGrid\n",
    "g = sns.FacetGrid(data=tips, row='sex', col='day')\n",
    "g.map(plt.hist, 'tip')"
   ]
  },
  {
   "cell_type": "code",
   "execution_count": null,
   "metadata": {},
   "outputs": [],
   "source": [
    "from distutils.version import LooseVersion\n",
    "from seaborn.palettes import color_palette\n",
    "import warnings\n",
    "from itertools import product\n",
    "import matplotlib.pyplot as plt\n",
    "from seaborn import utils\n",
    "import matplotlib as mpl\n",
    "import numpy as np\n",
    "\n",
    "# sns.FacetGrid(FacetGrid_ret, data=tips, row='sex', col='day')\n",
    "OLD_MPL = LooseVersion(mpl.__version__) < LooseVersion('1.4')\n",
    "\n",
    "# FacetGrid._get_palette(FacetGrid_ret, tips, None, None, None)\n",
    "palette = color_palette(n_colors=1)\n",
    "row_names = utils.categorical_order(tips['sex'], None)\n",
    "col_names = utils.categorical_order(tips['day'], None)\n",
    "none_na = np.zeros(len(tips), np.bool)\n",
    "row_na = tips['sex'].isnull()\n",
    "col_na = tips['day'].isnull()\n",
    "not_na = ~(row_na | col_na | none_na)\n",
    "ncol = len(col_names)\n",
    "nrow = len(row_names)\n",
    "_n_facets = ncol * nrow\n",
    "figsize = ncol * 3 * 1, nrow * 3\n",
    "fig, axes = plt.subplots(nrow, ncol, figsize=figsize, squeeze=False, sharex\n",
    "    =True, sharey=True, subplot_kw={}, gridspec_kw={})\n",
    "_legend_data = {}\n",
    "fig.tight_layout()\n",
    "\n",
    "# FacetGrid.despine(FacetGrid_ret)\n",
    "utils.despine(fig)\n",
    "\n",
    "# FacetGrid.map(g, plt.hist, 'tip')\n",
    "kw_color = {}.pop('color', None)\n",
    "facet_data_ret = []\n",
    "\n",
    "# FacetGrid.facet_data(g)\n",
    "row_masks = [(tips['sex'] == n) for n in row_names]\n",
    "col_masks = [(tips['day'] == n) for n in col_names]\n",
    "hue_masks = [np.repeat(True, len(tips))]\n",
    "for (i, row), (j, col), (k, hue) in product(enumerate(row_masks), enumerate\n",
    "    (col_masks), enumerate(hue_masks)):\n",
    "    data_ijk = tips[row & col & hue & not_na]\n",
    "    facet_data_ret.append(((i, j, k), data_ijk))\n",
    "for (row_i, col_j, hue_k), data_ijk in facet_data_ret:\n",
    "\n",
    "    # FacetGrid.facet_axis(g, row_i, col_j)\n",
    "    ax = axes[row_i, col_j]\n",
    "    plt.sca(ax)\n",
    "\n",
    "    # FacetGrid._facet_color(g, hue_k, kw_color)\n",
    "    color = palette[hue_k]\n",
    "    plot_data = data_ijk[list(['tip'])]\n",
    "    plot_data = plot_data.dropna()\n",
    "    plot_args = [v for k, v in plot_data.iteritems()]\n",
    "    plot_args = [v.values for v in plot_args]\n",
    "\n",
    "    # FacetGrid._facet_plot(g, plt.hist, ax, plot_args, kwargs)\n",
    "    plt.hist(plot_args[0])\n",
    "\n",
    "    # FacetGrid._update_legend_data(g, ax)\n",
    "    handles, labels = ax.get_legend_handles_labels()\n",
    "    data = {l: h for h, l in zip(handles, labels)}\n",
    "    _legend_data.update(data)\n",
    "\n",
    "    # FacetGrid._clean_axis(g, ax)\n",
    "    ax.set_xlabel('')\n",
    "    ax.set_ylabel('')\n",
    "    ax.legend_ = None\n",
    "\n",
    "# FacetGrid._finalize_grid(g, ['tip'])\n",
    "\n",
    "# FacetGrid.set_axis_labels(g, 'tip')\n",
    "\n",
    "# FacetGrid.set_xlabels(g, 'tip')\n",
    "\n",
    "# FacetGrid._bottom_axes_getter(g)\n",
    "_bottom_axes = axes[(-1), :].flat\n",
    "for ax in _bottom_axes:\n",
    "    ax.set_xlabel('tip')\n",
    "\n",
    "# FacetGrid.set_titles(g)\n",
    "size = {}.pop('size', mpl.rcParams['axes.labelsize'])\n",
    "template = ' | '.join(['{row_var} = {row_name}', '{col_var} = {col_name}'])\n",
    "template = utils.to_utf8(template)\n",
    "for i, row_name in enumerate(row_names):\n",
    "    for j, col_name in enumerate(col_names):\n",
    "        row_name = row_name\n",
    "        col_name = col_name\n",
    "        title = template.format(row_var='sex', col_var='day', row_name=\n",
    "            row_name, col_name=col_name)\n",
    "        axes[i, j].set_title(title, size=size)\n",
    "fig.tight_layout()"
   ]
  }
 ],
 "metadata": {
  "kernelspec": {
   "display_name": "Python 3",
   "language": "python",
   "name": "python3"
  },
  "language_info": {
   "codemirror_mode": {
    "name": "ipython",
    "version": 3
   },
   "file_extension": ".py",
   "mimetype": "text/x-python",
   "name": "python",
   "nbconvert_exporter": "python",
   "pygments_lexer": "ipython3",
   "version": "3.7.3"
  },
  "toc": {
   "base_numbering": 1,
   "nav_menu": {},
   "number_sections": true,
   "sideBar": true,
   "skip_h1_title": false,
   "title_cell": "Table of Contents",
   "title_sidebar": "Contents",
   "toc_cell": false,
   "toc_position": {},
   "toc_section_display": true,
   "toc_window_display": false
  },
  "varInspector": {
   "cols": {
    "lenName": 16,
    "lenType": 16,
    "lenVar": 40
   },
   "kernels_config": {
    "python": {
     "delete_cmd_postfix": "",
     "delete_cmd_prefix": "del ",
     "library": "var_list.py",
     "varRefreshCmd": "print(var_dic_list())"
    },
    "r": {
     "delete_cmd_postfix": ") ",
     "delete_cmd_prefix": "rm(",
     "library": "var_list.r",
     "varRefreshCmd": "cat(var_dic_list()) "
    }
   },
   "types_to_exclude": [
    "module",
    "function",
    "builtin_function_or_method",
    "instance",
    "_Feature"
   ],
   "window_display": false
  }
 },
 "nbformat": 4,
 "nbformat_minor": 2
}
