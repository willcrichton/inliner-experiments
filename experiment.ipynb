{
 "cells": [
  {
   "cell_type": "markdown",
   "metadata": {
    "ExecuteTime": {
     "end_time": "2020-01-06T21:21:05.249962Z",
     "start_time": "2020-01-06T21:21:04.066046Z"
    },
    "deletable": false,
    "editable": false,
    "run_control": {
     "frozen": true
    }
   },
   "source": [
    "**Click \"Cell > Run All\" before proceeding.**\n",
    "\n",
    "# Inliner user study\n",
    "\n",
    "In this experiment, you will be provided two snippets of code using the [Seaborn library](http://seaborn.pydata.org/) to visualize data. You will attempt several tasks involving understanding and modifying the code. You are free to use any resources to solve the problem, including Google and StackOverflow. You may also read and modify the Seaborn library itself -- a copy has been provided in `./seaborn`, and any edits will automatically propagate into this notebook.\n",
    "\n",
    "Your final answers should go in the code cells below. We have also provided you a [scratchpad notebook](/notebooks/scratchpad.ipynb) if you want to do work without fear of interfering with the experiment."
   ]
  },
  {
   "cell_type": "markdown",
   "metadata": {
    "ExecuteTime": {
     "end_time": "2020-01-06T21:21:05.249962Z",
     "start_time": "2020-01-06T21:21:04.066046Z"
    },
    "deletable": false,
    "editable": false,
    "run_control": {
     "frozen": true
    }
   },
   "source": [
    "## Problem setup\n",
    "\n",
    "First, we will setup the modules and environment for the task. The seaborn and matplotlib modules are imported."
   ]
  },
  {
   "cell_type": "code",
   "execution_count": 1,
   "metadata": {
    "ExecuteTime": {
     "end_time": "2020-01-07T00:09:36.616080Z",
     "start_time": "2020-01-07T00:09:35.383191Z"
    }
   },
   "outputs": [],
   "source": [
    "%load_ext autoreload\n",
    "%autoreload 2\n",
    "import seaborn as sns\n",
    "import matplotlib.pyplot as plt\n",
    "import matplotlib as mpl\n",
    "import numpy as np\n",
    "from expinfra import *"
   ]
  },
  {
   "cell_type": "markdown",
   "metadata": {
    "deletable": false,
    "editable": false,
    "run_control": {
     "frozen": true
    }
   },
   "source": [
    "We will use the sample `iris` dataset containing numeric information about flowers. The dataframe is shown below. "
   ]
  },
  {
   "cell_type": "code",
   "execution_count": 2,
   "metadata": {
    "ExecuteTime": {
     "end_time": "2020-01-07T00:09:36.652549Z",
     "start_time": "2020-01-07T00:09:36.618360Z"
    }
   },
   "outputs": [
    {
     "data": {
      "text/html": [
       "<div>\n",
       "<style scoped>\n",
       "    .dataframe tbody tr th:only-of-type {\n",
       "        vertical-align: middle;\n",
       "    }\n",
       "\n",
       "    .dataframe tbody tr th {\n",
       "        vertical-align: top;\n",
       "    }\n",
       "\n",
       "    .dataframe thead th {\n",
       "        text-align: right;\n",
       "    }\n",
       "</style>\n",
       "<table border=\"1\" class=\"dataframe\">\n",
       "  <thead>\n",
       "    <tr style=\"text-align: right;\">\n",
       "      <th></th>\n",
       "      <th>sepal_length</th>\n",
       "      <th>sepal_width</th>\n",
       "      <th>petal_length</th>\n",
       "      <th>petal_width</th>\n",
       "      <th>species</th>\n",
       "    </tr>\n",
       "  </thead>\n",
       "  <tbody>\n",
       "    <tr>\n",
       "      <th>0</th>\n",
       "      <td>5.1</td>\n",
       "      <td>3.5</td>\n",
       "      <td>1.4</td>\n",
       "      <td>0.2</td>\n",
       "      <td>setosa</td>\n",
       "    </tr>\n",
       "    <tr>\n",
       "      <th>1</th>\n",
       "      <td>4.9</td>\n",
       "      <td>3.0</td>\n",
       "      <td>1.4</td>\n",
       "      <td>0.2</td>\n",
       "      <td>setosa</td>\n",
       "    </tr>\n",
       "    <tr>\n",
       "      <th>2</th>\n",
       "      <td>4.7</td>\n",
       "      <td>3.2</td>\n",
       "      <td>1.3</td>\n",
       "      <td>0.2</td>\n",
       "      <td>setosa</td>\n",
       "    </tr>\n",
       "    <tr>\n",
       "      <th>3</th>\n",
       "      <td>4.6</td>\n",
       "      <td>3.1</td>\n",
       "      <td>1.5</td>\n",
       "      <td>0.2</td>\n",
       "      <td>setosa</td>\n",
       "    </tr>\n",
       "    <tr>\n",
       "      <th>4</th>\n",
       "      <td>5.0</td>\n",
       "      <td>3.6</td>\n",
       "      <td>1.4</td>\n",
       "      <td>0.2</td>\n",
       "      <td>setosa</td>\n",
       "    </tr>\n",
       "    <tr>\n",
       "      <th>...</th>\n",
       "      <td>...</td>\n",
       "      <td>...</td>\n",
       "      <td>...</td>\n",
       "      <td>...</td>\n",
       "      <td>...</td>\n",
       "    </tr>\n",
       "    <tr>\n",
       "      <th>145</th>\n",
       "      <td>6.7</td>\n",
       "      <td>3.0</td>\n",
       "      <td>5.2</td>\n",
       "      <td>2.3</td>\n",
       "      <td>virginica</td>\n",
       "    </tr>\n",
       "    <tr>\n",
       "      <th>146</th>\n",
       "      <td>6.3</td>\n",
       "      <td>2.5</td>\n",
       "      <td>5.0</td>\n",
       "      <td>1.9</td>\n",
       "      <td>virginica</td>\n",
       "    </tr>\n",
       "    <tr>\n",
       "      <th>147</th>\n",
       "      <td>6.5</td>\n",
       "      <td>3.0</td>\n",
       "      <td>5.2</td>\n",
       "      <td>2.0</td>\n",
       "      <td>virginica</td>\n",
       "    </tr>\n",
       "    <tr>\n",
       "      <th>148</th>\n",
       "      <td>6.2</td>\n",
       "      <td>3.4</td>\n",
       "      <td>5.4</td>\n",
       "      <td>2.3</td>\n",
       "      <td>virginica</td>\n",
       "    </tr>\n",
       "    <tr>\n",
       "      <th>149</th>\n",
       "      <td>5.9</td>\n",
       "      <td>3.0</td>\n",
       "      <td>5.1</td>\n",
       "      <td>1.8</td>\n",
       "      <td>virginica</td>\n",
       "    </tr>\n",
       "  </tbody>\n",
       "</table>\n",
       "<p>150 rows × 5 columns</p>\n",
       "</div>"
      ],
      "text/plain": [
       "     sepal_length  sepal_width  petal_length  petal_width    species\n",
       "0             5.1          3.5           1.4          0.2     setosa\n",
       "1             4.9          3.0           1.4          0.2     setosa\n",
       "2             4.7          3.2           1.3          0.2     setosa\n",
       "3             4.6          3.1           1.5          0.2     setosa\n",
       "4             5.0          3.6           1.4          0.2     setosa\n",
       "..            ...          ...           ...          ...        ...\n",
       "145           6.7          3.0           5.2          2.3  virginica\n",
       "146           6.3          2.5           5.0          1.9  virginica\n",
       "147           6.5          3.0           5.2          2.0  virginica\n",
       "148           6.2          3.4           5.4          2.3  virginica\n",
       "149           5.9          3.0           5.1          1.8  virginica\n",
       "\n",
       "[150 rows x 5 columns]"
      ]
     },
     "execution_count": 2,
     "metadata": {},
     "output_type": "execute_result"
    }
   ],
   "source": [
    "iris = sns.load_dataset('iris')\n",
    "iris"
   ]
  },
  {
   "cell_type": "markdown",
   "metadata": {
    "deletable": false,
    "editable": false,
    "run_control": {
     "frozen": true
    }
   },
   "source": [
    "## Code Snippet #1: Boxplot\n",
    "\n",
    "The first code snippet is shown below. It generates a boxplot of the `petal_length` column grouped by the flower `species` using the [seaborn.boxplot](https://seaborn.pydata.org/generated/seaborn.boxplot.html) function."
   ]
  },
  {
   "cell_type": "code",
   "execution_count": 3,
   "metadata": {
    "ExecuteTime": {
     "end_time": "2020-01-07T00:09:36.895563Z",
     "start_time": "2020-01-07T00:09:36.654586Z"
    },
    "deletable": false,
    "editable": false
   },
   "outputs": [
    {
     "data": {
      "text/plain": [
       "<matplotlib.axes._subplots.AxesSubplot at 0x12c1c1710>"
      ]
     },
     "execution_count": 3,
     "metadata": {},
     "output_type": "execute_result"
    },
    {
     "data": {
      "image/png": "[encoded data removed]",
      "text/plain": [
       "<Figure size 432x288 with 1 Axes>"
      ]
     },
     "metadata": {
      "needs_background": "light"
     },
     "output_type": "display_data"
    }
   ],
   "source": [
    "sns.boxplot(x=iris.species, y=iris.petal_length)"
   ]
  },
  {
   "cell_type": "markdown",
   "metadata": {
    "deletable": false,
    "editable": false,
    "run_control": {
     "frozen": true
    }
   },
   "source": [
    "### Example Task: Plot `sepal_length` instead of `petal_length`\n",
    "\n",
    "To warm up with the experiment infrastructure, we will walk through an example task. For each task, you will be given a prompt (above) and a short description. Here, your goal is to change the `y` axis to show `sepal_length` from the iris dataset, not `petal_length`.\n",
    "\n",
    "If the task is to edit the code, the desired output will be provided. Your result must look **identical** to the desired output."
   ]
  },
  {
   "cell_type": "code",
   "execution_count": 4,
   "metadata": {
    "ExecuteTime": {
     "end_time": "2020-01-06T23:47:15.729593Z",
     "start_time": "2020-01-06T23:47:15.534351Z"
    },
    "deletable": false,
    "editable": false,
    "hide_input": true,
    "run_control": {
     "frozen": true
    }
   },
   "outputs": [
    {
     "data": {
      "image/png": "[encoded data removed]",
      "text/plain": [
       "<Figure size 432x288 with 1 Axes>"
      ]
     },
     "metadata": {
      "needs_background": "light"
     },
     "output_type": "display_data"
    }
   ],
   "source": [
    "_ = sns.boxplot(x=iris.species, y=iris.sepal_length)"
   ]
  },
  {
   "cell_type": "markdown",
   "metadata": {
    "ExecuteTime": {
     "end_time": "2020-01-06T23:24:58.393904Z",
     "start_time": "2020-01-06T23:24:58.368331Z"
    },
    "deletable": false,
    "editable": false,
    "run_control": {
     "frozen": true
    }
   },
   "source": [
    "Once you have read the task description, before you start the task, click the \"Start &lt;Task Name&gt;\" button. Then enter your solution in the cell below. Once you believe you have finished the task, click the \"End &lt;Task Name&gt;\" button and proceed to the next task."
   ]
  },
  {
   "cell_type": "code",
   "execution_count": 4,
   "metadata": {
    "ExecuteTime": {
     "end_time": "2020-01-07T00:09:36.923474Z",
     "start_time": "2020-01-07T00:09:36.897503Z"
    },
    "code_folding": [],
    "deletable": false,
    "editable": false,
    "hide_input": true
   },
   "outputs": [
    {
     "data": {
      "application/vnd.jupyter.widget-view+json": {
       "model_id": "ec954a36538845288469bdf630979c2b",
       "version_major": 2,
       "version_minor": 0
      },
      "text/plain": [
       "Button(description='Start Example Task', style=ButtonStyle())"
      ]
     },
     "metadata": {},
     "output_type": "display_data"
    }
   ],
   "source": [
    "experiment_start('Example Task')"
   ]
  },
  {
   "cell_type": "code",
   "execution_count": null,
   "metadata": {
    "ExecuteTime": {
     "end_time": "2020-01-07T00:12:54.286562Z",
     "start_time": "2020-01-07T00:12:54.262593Z"
    }
   },
   "outputs": [],
   "source": []
  },
  {
   "cell_type": "code",
   "execution_count": 6,
   "metadata": {
    "ExecuteTime": {
     "end_time": "2020-01-07T00:09:36.973444Z",
     "start_time": "2020-01-07T00:09:36.946928Z"
    },
    "deletable": false,
    "editable": false,
    "hide_input": true
   },
   "outputs": [
    {
     "data": {
      "application/vnd.jupyter.widget-view+json": {
       "model_id": "f05bc5407f2f40cdbc0d62cc5d991814",
       "version_major": 2,
       "version_minor": 0
      },
      "text/plain": [
       "Button(description='End Example Task', style=ButtonStyle())"
      ]
     },
     "metadata": {},
     "output_type": "display_data"
    }
   ],
   "source": [
    "experiment_end('Example Task')"
   ]
  },
  {
   "cell_type": "markdown",
   "metadata": {
    "ExecuteTime": {
     "end_time": "2020-01-06T21:37:52.758967Z",
     "start_time": "2020-01-06T21:37:52.735679Z"
    },
    "deletable": false,
    "editable": false,
    "run_control": {
     "frozen": true
    }
   },
   "source": [
    "**Do not forget to click \"End task\" before moving on!**\n",
    "\n",
    "### Task 1.1: How is the x-axis order of the boxes derived?\n",
    "\n",
    "Provide a one-sentence explanation of how the x-axis order is decided. Be as specific as possible. If libraries other than Seaborn are used, you do not need to explain how they work.\n",
    "\n",
    "Put your answer in the markdown cell below."
   ]
  },
  {
   "cell_type": "code",
   "execution_count": 7,
   "metadata": {
    "ExecuteTime": {
     "end_time": "2020-01-07T00:09:37.001948Z",
     "start_time": "2020-01-07T00:09:36.974715Z"
    },
    "code_folding": [],
    "deletable": false,
    "editable": false,
    "hide_input": true
   },
   "outputs": [
    {
     "data": {
      "application/vnd.jupyter.widget-view+json": {
       "model_id": "ef9d7e164644489083aa1dec63bf88e1",
       "version_major": 2,
       "version_minor": 0
      },
      "text/plain": [
       "Button(description='Start Task 1.1', style=ButtonStyle())"
      ]
     },
     "metadata": {},
     "output_type": "display_data"
    }
   ],
   "source": [
    "experiment_start('Task 1.1')"
   ]
  },
  {
   "cell_type": "markdown",
   "metadata": {},
   "source": []
  },
  {
   "cell_type": "code",
   "execution_count": 8,
   "metadata": {
    "ExecuteTime": {
     "end_time": "2020-01-07T00:09:37.034602Z",
     "start_time": "2020-01-07T00:09:37.005681Z"
    },
    "deletable": false,
    "editable": false,
    "hide_input": true
   },
   "outputs": [
    {
     "data": {
      "application/vnd.jupyter.widget-view+json": {
       "model_id": "58f182c10b9148499979b5c1d3c3d018",
       "version_major": 2,
       "version_minor": 0
      },
      "text/plain": [
       "Button(description='End Task 1.1', style=ButtonStyle())"
      ]
     },
     "metadata": {},
     "output_type": "display_data"
    }
   ],
   "source": [
    "experiment_end('Task 1.1')"
   ]
  },
  {
   "cell_type": "markdown",
   "metadata": {
    "deletable": false,
    "editable": false,
    "run_control": {
     "frozen": true
    }
   },
   "source": [
    "### Task 1.2: Which method is responsible for setting the draw style of the whiskers?\n",
    "\n",
    "Provide the name of the method in the markdown cell below."
   ]
  },
  {
   "cell_type": "code",
   "execution_count": 9,
   "metadata": {
    "ExecuteTime": {
     "end_time": "2020-01-07T00:09:37.077493Z",
     "start_time": "2020-01-07T00:09:37.037812Z"
    },
    "code_folding": [],
    "deletable": false,
    "editable": false,
    "hide_input": true
   },
   "outputs": [
    {
     "data": {
      "application/vnd.jupyter.widget-view+json": {
       "model_id": "d6be50092eb34a3b901adaaef57ddde4",
       "version_major": 2,
       "version_minor": 0
      },
      "text/plain": [
       "Button(description='Start Task 1.2', style=ButtonStyle())"
      ]
     },
     "metadata": {},
     "output_type": "display_data"
    }
   ],
   "source": [
    "experiment_start('Task 1.2')"
   ]
  },
  {
   "cell_type": "markdown",
   "metadata": {},
   "source": []
  },
  {
   "cell_type": "code",
   "execution_count": 10,
   "metadata": {
    "ExecuteTime": {
     "end_time": "2020-01-07T00:09:37.142007Z",
     "start_time": "2020-01-07T00:09:37.082136Z"
    },
    "deletable": false,
    "editable": false,
    "hide_input": true
   },
   "outputs": [
    {
     "data": {
      "application/vnd.jupyter.widget-view+json": {
       "model_id": "8df95ba2d1814b79b0204f79f43e2d48",
       "version_major": 2,
       "version_minor": 0
      },
      "text/plain": [
       "Button(description='End Task 1.2', style=ButtonStyle())"
      ]
     },
     "metadata": {},
     "output_type": "display_data"
    }
   ],
   "source": [
    "experiment_end('Task 1.2')"
   ]
  },
  {
   "cell_type": "markdown",
   "metadata": {
    "deletable": false,
    "editable": false,
    "run_control": {
     "frozen": true
    }
   },
   "source": [
    "### Task 1.3: Change x-axis label to “Species” and y-axis label to “Petal length”\n",
    "\n"
   ]
  },
  {
   "cell_type": "code",
   "execution_count": 11,
   "metadata": {
    "ExecuteTime": {
     "end_time": "2020-01-07T00:09:37.392499Z",
     "start_time": "2020-01-07T00:09:37.146687Z"
    },
    "hide_input": true
   },
   "outputs": [
    {
     "data": {
      "image/png": "[encoded data removed]",
      "text/plain": [
       "<Figure size 432x288 with 1 Axes>"
      ]
     },
     "metadata": {
      "needs_background": "light"
     },
     "output_type": "display_data"
    }
   ],
   "source": [
    "ax = sns.boxplot(x=iris.species, y=iris.petal_length)\n",
    "ax.set_xlabel('Species')\n",
    "_ = ax.set_ylabel('Petal length')"
   ]
  },
  {
   "cell_type": "code",
   "execution_count": 12,
   "metadata": {
    "ExecuteTime": {
     "end_time": "2020-01-07T00:09:37.425930Z",
     "start_time": "2020-01-07T00:09:37.395258Z"
    },
    "code_folding": [],
    "deletable": false,
    "editable": false,
    "hide_input": true,
    "scrolled": true
   },
   "outputs": [
    {
     "data": {
      "application/vnd.jupyter.widget-view+json": {
       "model_id": "35ef25f6ec2b4de199cc6b7a72af4d94",
       "version_major": 2,
       "version_minor": 0
      },
      "text/plain": [
       "Button(description='Start Task 1.3', style=ButtonStyle())"
      ]
     },
     "metadata": {},
     "output_type": "display_data"
    }
   ],
   "source": [
    "experiment_start('Task 1.3')"
   ]
  },
  {
   "cell_type": "code",
   "execution_count": null,
   "metadata": {},
   "outputs": [],
   "source": []
  },
  {
   "cell_type": "code",
   "execution_count": 13,
   "metadata": {
    "ExecuteTime": {
     "end_time": "2020-01-07T00:09:37.460836Z",
     "start_time": "2020-01-07T00:09:37.427999Z"
    },
    "deletable": false,
    "editable": false,
    "hide_input": true,
    "scrolled": true
   },
   "outputs": [
    {
     "data": {
      "application/vnd.jupyter.widget-view+json": {
       "model_id": "4b1d9f29b4f14c20b3030e2b2a016ed9",
       "version_major": 2,
       "version_minor": 0
      },
      "text/plain": [
       "Button(description='End Task 1.3', style=ButtonStyle())"
      ]
     },
     "metadata": {},
     "output_type": "display_data"
    }
   ],
   "source": [
    "experiment_end('Task 1.3')"
   ]
  },
  {
   "cell_type": "markdown",
   "metadata": {
    "deletable": false,
    "editable": false,
    "run_control": {
     "frozen": true
    }
   },
   "source": [
    "### Task 1.4: Add title “Petal length by species” to plot\n"
   ]
  },
  {
   "cell_type": "code",
   "execution_count": 14,
   "metadata": {
    "ExecuteTime": {
     "end_time": "2020-01-07T00:09:37.694336Z",
     "start_time": "2020-01-07T00:09:37.462500Z"
    },
    "deletable": false,
    "editable": false,
    "hide_input": true,
    "scrolled": false
   },
   "outputs": [
    {
     "data": {
      "image/png": "[encoded data removed]",
      "text/plain": [
       "<Figure size 432x288 with 1 Axes>"
      ]
     },
     "metadata": {
      "needs_background": "light"
     },
     "output_type": "display_data"
    }
   ],
   "source": [
    "ax = sns.boxplot(x=iris.species, y=iris.petal_length)\n",
    "_ = ax.set_title('Petal length by species')"
   ]
  },
  {
   "cell_type": "code",
   "execution_count": 15,
   "metadata": {
    "ExecuteTime": {
     "end_time": "2020-01-07T00:09:37.726082Z",
     "start_time": "2020-01-07T00:09:37.697018Z"
    },
    "code_folding": [],
    "deletable": false,
    "editable": false,
    "hide_input": true,
    "scrolled": true
   },
   "outputs": [
    {
     "data": {
      "application/vnd.jupyter.widget-view+json": {
       "model_id": "6af0eb5bf01642cd836af8a2d05b7774",
       "version_major": 2,
       "version_minor": 0
      },
      "text/plain": [
       "Button(description='Start Task 1.4', style=ButtonStyle())"
      ]
     },
     "metadata": {},
     "output_type": "display_data"
    }
   ],
   "source": [
    "experiment_start('Task 1.4')"
   ]
  },
  {
   "cell_type": "code",
   "execution_count": null,
   "metadata": {},
   "outputs": [],
   "source": []
  },
  {
   "cell_type": "code",
   "execution_count": 16,
   "metadata": {
    "ExecuteTime": {
     "end_time": "2020-01-07T00:09:37.768276Z",
     "start_time": "2020-01-07T00:09:37.728867Z"
    },
    "deletable": false,
    "editable": false,
    "hide_input": true,
    "scrolled": true
   },
   "outputs": [
    {
     "data": {
      "application/vnd.jupyter.widget-view+json": {
       "model_id": "2ef6d775a6d24eaaac738fe6866aac06",
       "version_major": 2,
       "version_minor": 0
      },
      "text/plain": [
       "Button(description='End Task 1.4', style=ButtonStyle())"
      ]
     },
     "metadata": {},
     "output_type": "display_data"
    }
   ],
   "source": [
    "experiment_end('Task 1.4')"
   ]
  },
  {
   "cell_type": "markdown",
   "metadata": {
    "deletable": false,
    "editable": false,
    "run_control": {
     "frozen": true
    }
   },
   "source": [
    "### Task 1.5: Set width of box whiskers to half of default thickness\n",
    "\n",
    "Do not try to eyeball the line thickness--it must be precisely half of the default value used by Seaborn."
   ]
  },
  {
   "cell_type": "code",
   "execution_count": 17,
   "metadata": {
    "ExecuteTime": {
     "end_time": "2020-01-07T00:09:38.006726Z",
     "start_time": "2020-01-07T00:09:37.770522Z"
    },
    "deletable": false,
    "editable": false,
    "hide_input": true
   },
   "outputs": [
    {
     "data": {
      "image/png": "[encoded data removed]",
      "text/plain": [
       "<Figure size 432x288 with 1 Axes>"
      ]
     },
     "metadata": {
      "needs_background": "light"
     },
     "output_type": "display_data"
    }
   ],
   "source": [
    "_ = sns.boxplot(x=iris.species, y=iris.petal_length, linewidth=mpl.rcParams['lines.linewidth']/2)"
   ]
  },
  {
   "cell_type": "code",
   "execution_count": 18,
   "metadata": {
    "ExecuteTime": {
     "end_time": "2020-01-07T00:09:38.034138Z",
     "start_time": "2020-01-07T00:09:38.008596Z"
    },
    "code_folding": [],
    "deletable": false,
    "editable": false,
    "hide_input": true,
    "scrolled": true
   },
   "outputs": [
    {
     "data": {
      "application/vnd.jupyter.widget-view+json": {
       "model_id": "2f2a486b6fc2481da9d5ff84247ccd9f",
       "version_major": 2,
       "version_minor": 0
      },
      "text/plain": [
       "Button(description='Start Task 1.5', style=ButtonStyle())"
      ]
     },
     "metadata": {},
     "output_type": "display_data"
    }
   ],
   "source": [
    "experiment_start('Task 1.5')"
   ]
  },
  {
   "cell_type": "code",
   "execution_count": null,
   "metadata": {},
   "outputs": [],
   "source": []
  },
  {
   "cell_type": "code",
   "execution_count": 19,
   "metadata": {
    "ExecuteTime": {
     "end_time": "2020-01-07T00:09:38.063630Z",
     "start_time": "2020-01-07T00:09:38.035834Z"
    },
    "deletable": false,
    "editable": false,
    "hide_input": true,
    "scrolled": false
   },
   "outputs": [
    {
     "data": {
      "application/vnd.jupyter.widget-view+json": {
       "model_id": "28cb90a4d5cb4b73b20d70224ed85389",
       "version_major": 2,
       "version_minor": 0
      },
      "text/plain": [
       "Button(description='End Task 1.5', style=ButtonStyle())"
      ]
     },
     "metadata": {},
     "output_type": "display_data"
    }
   ],
   "source": [
    "experiment_end('Task 1.5')"
   ]
  },
  {
   "cell_type": "markdown",
   "metadata": {
    "deletable": false,
    "editable": false,
    "run_control": {
     "frozen": true
    }
   },
   "source": [
    "## Task 1.6: Draw outliers as points, not diamonds\n",
    "\n",
    "Outliers are the marks drawn outside the boxplot range. By default, they are diamonds, and they should instead be drawn as points."
   ]
  },
  {
   "cell_type": "code",
   "execution_count": 20,
   "metadata": {
    "ExecuteTime": {
     "end_time": "2020-01-07T00:09:38.363368Z",
     "start_time": "2020-01-07T00:09:38.065776Z"
    },
    "deletable": false,
    "editable": false,
    "hide_input": true
   },
   "outputs": [
    {
     "data": {
      "image/png": "[encoded data removed]",
      "text/plain": [
       "<Figure size 432x288 with 1 Axes>"
      ]
     },
     "metadata": {
      "needs_background": "light"
     },
     "output_type": "display_data"
    }
   ],
   "source": [
    "import matplotlib.pyplot as plt\n",
    "from seaborn.utils import categorical_order\n",
    "import colorsys\n",
    "from seaborn.palettes import color_palette\n",
    "from seaborn import utils\n",
    "import pandas as pd\n",
    "from seaborn.utils import remove_na\n",
    "import matplotlib as mpl\n",
    "import numpy as np\n",
    "\n",
    "# sns.boxplot(x=iris.species, y=iris.petal_length)\n",
    "\n",
    "# _BoxPlotter(_BoxPlotter_ret, iris.species, iris.petal_length, None, None,\n",
    "#     None, None, None, None, None, 0.75, 0.8, True, 5, None)\n",
    "\n",
    "# _BoxPlotter.establish_variables(_BoxPlotter_ret, iris.species, iris.\n",
    "#     petal_length, None, None, None, None, None)\n",
    "\n",
    "# _BoxPlotter.infer_orient(_BoxPlotter_ret, iris.species, iris.petal_length,\n",
    "#     orient)\n",
    "group_names = categorical_order(iris.species, None)\n",
    "\n",
    "# _BoxPlotter._group_longform(_BoxPlotter_ret, vals, groups, group_names)\n",
    "grouped_vals = iris.petal_length.groupby(iris.species)\n",
    "out_data = []\n",
    "for g in group_names:\n",
    "    g_vals = np.asarray(grouped_vals.get_group(g))\n",
    "    out_data.append(g_vals)\n",
    "\n",
    "# _BoxPlotter.establish_colors(_BoxPlotter_ret, None, None, 0.75)\n",
    "n_colors = len(out_data)\n",
    "current_palette = utils.get_color_cycle()\n",
    "colors = color_palette(n_colors=n_colors)\n",
    "colors = color_palette(colors, desat=0.75)\n",
    "rgb_colors = color_palette(colors)\n",
    "light_vals = [colorsys.rgb_to_hls(*c)[1] for c in rgb_colors]\n",
    "lum = min(light_vals) * 0.6\n",
    "gray = mpl.colors.rgb2hex((lum, lum, lum))\n",
    "linewidth = mpl.rcParams['lines.linewidth']\n",
    "ax = plt.gca()\n",
    "\n",
    "# _BoxPlotter.plot(_BoxPlotter_ret, ax, {})\n",
    "\n",
    "# _BoxPlotter.draw_boxplot(_BoxPlotter_ret, ax, {})\n",
    "kws = {}\n",
    "props = {}\n",
    "for obj in ['box', 'whisker', 'cap', 'median', 'flier']:\n",
    "    props[obj] = kws.pop(obj + 'props', {})\n",
    "for i, group_data in enumerate(out_data):\n",
    "    box_data = remove_na(group_data)\n",
    "    artist_dict = ax.boxplot(box_data, vert=True, patch_artist=True,\n",
    "        positions=[i], widths=0.8)\n",
    "    color = rgb_colors[i]\n",
    "\n",
    "    # _BoxPlotter.restyle_boxplot(_BoxPlotter_ret, artist_dict, color, props)\n",
    "    for box in artist_dict['boxes']:\n",
    "        box.update(dict(facecolor=color, zorder=0.9, edgecolor=gray,\n",
    "            linewidth=linewidth))\n",
    "        box.update(props['box'])\n",
    "    for whisk in artist_dict['whiskers']:\n",
    "        whisk.update(dict(color=gray, linewidth=linewidth, linestyle='-'))\n",
    "        whisk.update(props['whisker'])\n",
    "    for cap in artist_dict['caps']:\n",
    "        cap.update(dict(color=gray, linewidth=linewidth))\n",
    "        cap.update(props['cap'])\n",
    "    for med in artist_dict['medians']:\n",
    "        med.update(dict(color=gray, linewidth=linewidth))\n",
    "        med.update(props['median'])\n",
    "    for fly in artist_dict['fliers']:\n",
    "        fly.update(dict(markerfacecolor=gray, marker='.', markeredgecolor=\n",
    "            gray, markersize=5))\n",
    "        fly.update(props['flier'])\n",
    "\n",
    "# _BoxPlotter.annotate_axes(_BoxPlotter_ret, ax)\n",
    "ax.set_xlabel(iris.species.name)\n",
    "ax.set_ylabel(iris.petal_length.name)\n",
    "ax.set_xticks(np.arange(len(out_data)))\n",
    "ax.set_xticklabels(group_names)\n",
    "ax.xaxis.grid(False)\n",
    "_ = ax.set_xlim(-0.5, len(out_data) - 0.5, auto=None)"
   ]
  },
  {
   "cell_type": "code",
   "execution_count": 21,
   "metadata": {
    "ExecuteTime": {
     "end_time": "2020-01-07T00:09:38.399928Z",
     "start_time": "2020-01-07T00:09:38.366745Z"
    },
    "code_folding": [],
    "deletable": false,
    "editable": false,
    "hide_input": true,
    "scrolled": false
   },
   "outputs": [
    {
     "data": {
      "application/vnd.jupyter.widget-view+json": {
       "model_id": "8332d59041b34678b50d70eec2649c3b",
       "version_major": 2,
       "version_minor": 0
      },
      "text/plain": [
       "Button(description='Start Task 1.6', style=ButtonStyle())"
      ]
     },
     "metadata": {},
     "output_type": "display_data"
    }
   ],
   "source": [
    "experiment_start('Task 1.6')"
   ]
  },
  {
   "cell_type": "code",
   "execution_count": null,
   "metadata": {},
   "outputs": [],
   "source": []
  },
  {
   "cell_type": "code",
   "execution_count": 22,
   "metadata": {
    "ExecuteTime": {
     "end_time": "2020-01-07T00:09:38.435850Z",
     "start_time": "2020-01-07T00:09:38.401947Z"
    },
    "deletable": false,
    "editable": false,
    "hide_input": true,
    "scrolled": true
   },
   "outputs": [
    {
     "data": {
      "application/vnd.jupyter.widget-view+json": {
       "model_id": "6b1c808534e94b9c8a16bb76b56ad9ed",
       "version_major": 2,
       "version_minor": 0
      },
      "text/plain": [
       "Button(description='End Task 1.6', style=ButtonStyle())"
      ]
     },
     "metadata": {},
     "output_type": "display_data"
    }
   ],
   "source": [
    "experiment_end('Task 1.6')"
   ]
  },
  {
   "cell_type": "markdown",
   "metadata": {
    "deletable": false,
    "editable": false,
    "run_control": {
     "frozen": true
    }
   },
   "source": [
    "## Code Snippet #2: FacetGrid\n",
    "\n",
    "The second code snippet is below. It uses Seaborn's [FacetGrid](https://seaborn.pydata.org/generated/seaborn.FacetGrid.html) API to create a histogram of `petal_length` for each `species`. It works by first creating a facet grid object with `col=\"species\"`, meaning any plot should be done per-species. Then the `g.map(plt.hist)` runs the Matplotlib histogram function over the `petal_length` of each species with the provided bins."
   ]
  },
  {
   "cell_type": "code",
   "execution_count": 23,
   "metadata": {
    "ExecuteTime": {
     "end_time": "2020-01-07T00:09:39.234899Z",
     "start_time": "2020-01-07T00:09:38.443052Z"
    },
    "deletable": false,
    "editable": false
   },
   "outputs": [
    {
     "data": {
      "text/plain": [
       "<seaborn.axisgrid.FacetGrid at 0x12e266da0>"
      ]
     },
     "execution_count": 23,
     "metadata": {},
     "output_type": "execute_result"
    },
    {
     "data": {
      "image/png": "[encoded data removed]",
      "text/plain": [
       "<Figure size 648x216 with 3 Axes>"
      ]
     },
     "metadata": {
      "needs_background": "light"
     },
     "output_type": "display_data"
    }
   ],
   "source": [
    "g = sns.FacetGrid(data=iris, col='species')\n",
    "g.map(plt.hist, 'petal_length', bins=np.arange(0, 7.5, 0.2))"
   ]
  },
  {
   "cell_type": "markdown",
   "metadata": {
    "deletable": false,
    "editable": false,
    "run_control": {
     "frozen": true
    }
   },
   "source": [
    "### Task 2.1:  Change title to look like e.g. “Species 1: setosa”\n",
    "\n",
    "The default title styling is \"species = &lt;species name&gt;\". Change the formatting as above, including an index, e.g. \"Species 1: setosa\" and \"Species 2: versicolor\".\n"
   ]
  },
  {
   "cell_type": "code",
   "execution_count": 24,
   "metadata": {
    "ExecuteTime": {
     "end_time": "2020-01-07T00:09:39.909784Z",
     "start_time": "2020-01-07T00:09:39.243102Z"
    },
    "deletable": false,
    "editable": false,
    "hide_input": true
   },
   "outputs": [
    {
     "data": {
      "image/png": "[encoded data removed]",
      "text/plain": [
       "<Figure size 648x216 with 3 Axes>"
      ]
     },
     "metadata": {
      "needs_background": "light"
     },
     "output_type": "display_data"
    }
   ],
   "source": [
    "from distutils.version import LooseVersion\n",
    "from seaborn.palettes import color_palette\n",
    "import warnings\n",
    "from itertools import product\n",
    "import matplotlib.pyplot as plt\n",
    "from seaborn import utils\n",
    "import matplotlib as mpl\n",
    "import numpy as np\n",
    "\n",
    "# sns.FacetGrid(FacetGrid_ret, data=iris, col='species')\n",
    "OLD_MPL = LooseVersion(mpl.__version__) < LooseVersion('1.4')\n",
    "\n",
    "# FacetGrid._get_palette(FacetGrid_ret, iris, None, None, None)\n",
    "palette = color_palette(n_colors=1)\n",
    "col_names = utils.categorical_order(iris['species'], None)\n",
    "none_na = np.zeros(len(iris), np.bool)\n",
    "col_na = iris['species'].isnull()\n",
    "not_na = ~(none_na | col_na | none_na)\n",
    "ncol = len(col_names)\n",
    "_n_facets = ncol * 1\n",
    "figsize = ncol * 3 * 1, 3\n",
    "fig, axes = plt.subplots(1, ncol, figsize=figsize, squeeze=False, sharex=\n",
    "    True, sharey=True, subplot_kw={}, gridspec_kw={})\n",
    "_legend_data = {}\n",
    "fig.tight_layout()\n",
    "\n",
    "# FacetGrid.despine(FacetGrid_ret)\n",
    "utils.despine(fig)\n",
    "\n",
    "# FacetGrid.map(g, plt.hist, 'petal_length', bins=np.arange(0, 7.5, 0.2))\n",
    "bins = np.arange(0, 7.5, 0.2)\n",
    "kw_color = {}.pop('color', None)\n",
    "facet_data_ret = []\n",
    "\n",
    "# FacetGrid.facet_data(g)\n",
    "row_masks = [np.repeat(True, len(iris))]\n",
    "col_masks = [(iris['species'] == n) for n in col_names]\n",
    "hue_masks = [np.repeat(True, len(iris))]\n",
    "for (i, row), (j, col), (k, hue) in product(enumerate(row_masks), enumerate\n",
    "    (col_masks), enumerate(hue_masks)):\n",
    "    data_ijk = iris[row & col & hue & not_na]\n",
    "    facet_data_ret.append(((i, j, k), data_ijk))\n",
    "for (row_i, col_j, hue_k), data_ijk in facet_data_ret:\n",
    "\n",
    "    # FacetGrid.facet_axis(g, row_i, col_j)\n",
    "    ax = axes[row_i, col_j]\n",
    "    plt.sca(ax)\n",
    "\n",
    "    # FacetGrid._facet_color(g, hue_k, kw_color)\n",
    "    color = palette[hue_k]\n",
    "    plot_data = data_ijk[list(['petal_length'])]\n",
    "    plot_data = plot_data.dropna()\n",
    "    plot_args = [v for k, v in plot_data.iteritems()]\n",
    "    plot_args = [v.values for v in plot_args]\n",
    "\n",
    "    # FacetGrid._facet_plot(g, plt.hist, ax, plot_args, kwargs)\n",
    "    plt.hist(plot_args[0])\n",
    "\n",
    "    # FacetGrid._update_legend_data(g, ax)\n",
    "    handles, labels = ax.get_legend_handles_labels()\n",
    "    data = {l: h for h, l in zip(handles, labels)}\n",
    "    _legend_data.update(data)\n",
    "\n",
    "    # FacetGrid._clean_axis(g, ax)\n",
    "    ax.set_xlabel('')\n",
    "    ax.set_ylabel('')\n",
    "    ax.legend_ = None\n",
    "\n",
    "# FacetGrid._finalize_grid(g, ['petal_length'])\n",
    "\n",
    "# FacetGrid.set_axis_labels(g, 'petal_length')\n",
    "\n",
    "# FacetGrid.set_xlabels(g, 'petal_length')\n",
    "\n",
    "# FacetGrid._bottom_axes_getter(g)\n",
    "_bottom_axes = axes[(-1), :].flat\n",
    "for ax in _bottom_axes:\n",
    "    ax.set_xlabel('petal_length')\n",
    "\n",
    "# FacetGrid.set_titles(g)\n",
    "size = {}.pop('size', mpl.rcParams['axes.labelsize'])\n",
    "template = 'Species {i} = {col_name}'\n",
    "template = utils.to_utf8(template)\n",
    "for i, col_name in enumerate(col_names):\n",
    "    title = template.format(row_var=None, col_var='species', col_name=col_name, i=i)\n",
    "    axes.flat[i].set_title(title, size=size)\n",
    "fig.tight_layout()"
   ]
  },
  {
   "cell_type": "code",
   "execution_count": 25,
   "metadata": {
    "ExecuteTime": {
     "end_time": "2020-01-07T00:09:39.946670Z",
     "start_time": "2020-01-07T00:09:39.912276Z"
    },
    "code_folding": [],
    "deletable": false,
    "editable": false,
    "hide_input": true,
    "scrolled": true
   },
   "outputs": [
    {
     "data": {
      "application/vnd.jupyter.widget-view+json": {
       "model_id": "cca44ad4e9ac4fbeb6911cbfe845a9a8",
       "version_major": 2,
       "version_minor": 0
      },
      "text/plain": [
       "Button(description='Start Task 2.1', style=ButtonStyle())"
      ]
     },
     "metadata": {},
     "output_type": "display_data"
    }
   ],
   "source": [
    "experiment_start('Task 2.1')"
   ]
  },
  {
   "cell_type": "code",
   "execution_count": null,
   "metadata": {},
   "outputs": [],
   "source": []
  },
  {
   "cell_type": "code",
   "execution_count": 26,
   "metadata": {
    "ExecuteTime": {
     "end_time": "2020-01-07T00:09:39.997112Z",
     "start_time": "2020-01-07T00:09:39.952839Z"
    },
    "deletable": false,
    "editable": false,
    "hide_input": true,
    "scrolled": true
   },
   "outputs": [
    {
     "data": {
      "application/vnd.jupyter.widget-view+json": {
       "model_id": "a239e98a91394dbea1201e8e7bba48c3",
       "version_major": 2,
       "version_minor": 0
      },
      "text/plain": [
       "Button(description='End Task 2.1', style=ButtonStyle())"
      ]
     },
     "metadata": {},
     "output_type": "display_data"
    }
   ],
   "source": [
    "experiment_end('Task 2.1')"
   ]
  },
  {
   "cell_type": "markdown",
   "metadata": {
    "deletable": false,
    "editable": false,
    "run_control": {
     "frozen": true
    }
   },
   "source": [
    "### Task 2.2: Only show x-axis label on the middle plot of the grid"
   ]
  },
  {
   "cell_type": "code",
   "execution_count": 27,
   "metadata": {
    "ExecuteTime": {
     "end_time": "2020-01-07T00:09:40.665924Z",
     "start_time": "2020-01-07T00:09:40.000171Z"
    },
    "deletable": false,
    "editable": false,
    "hide_input": true
   },
   "outputs": [
    {
     "data": {
      "image/png": "[encoded data removed]",
      "text/plain": [
       "<Figure size 648x216 with 3 Axes>"
      ]
     },
     "metadata": {
      "needs_background": "light"
     },
     "output_type": "display_data"
    }
   ],
   "source": [
    "from distutils.version import LooseVersion\n",
    "from seaborn.palettes import color_palette\n",
    "import warnings\n",
    "from itertools import product\n",
    "import matplotlib.pyplot as plt\n",
    "from seaborn import utils\n",
    "import matplotlib as mpl\n",
    "import numpy as np\n",
    "\n",
    "# sns.FacetGrid(FacetGrid_ret, data=iris, col='species')\n",
    "OLD_MPL = LooseVersion(mpl.__version__) < LooseVersion('1.4')\n",
    "\n",
    "# FacetGrid._get_palette(FacetGrid_ret, iris, None, None, None)\n",
    "palette = color_palette(n_colors=1)\n",
    "col_names = utils.categorical_order(iris['species'], None)\n",
    "none_na = np.zeros(len(iris), np.bool)\n",
    "col_na = iris['species'].isnull()\n",
    "not_na = ~(none_na | col_na | none_na)\n",
    "ncol = len(col_names)\n",
    "_n_facets = ncol * 1\n",
    "figsize = ncol * 3 * 1, 3\n",
    "fig, axes = plt.subplots(1, ncol, figsize=figsize, squeeze=False, sharex=\n",
    "    True, sharey=True, subplot_kw={}, gridspec_kw={})\n",
    "_legend_data = {}\n",
    "fig.tight_layout()\n",
    "\n",
    "# FacetGrid.despine(FacetGrid_ret)\n",
    "utils.despine(fig)\n",
    "\n",
    "# FacetGrid.map(g, plt.hist, 'petal_length', bins=np.arange(0, 7.5, 0.2))\n",
    "bins = np.arange(0, 7.5, 0.2)\n",
    "kw_color = {}.pop('color', None)\n",
    "facet_data_ret = []\n",
    "\n",
    "# FacetGrid.facet_data(g)\n",
    "row_masks = [np.repeat(True, len(iris))]\n",
    "col_masks = [(iris['species'] == n) for n in col_names]\n",
    "hue_masks = [np.repeat(True, len(iris))]\n",
    "for (i, row), (j, col), (k, hue) in product(enumerate(row_masks), enumerate\n",
    "    (col_masks), enumerate(hue_masks)):\n",
    "    data_ijk = iris[row & col & hue & not_na]\n",
    "    facet_data_ret.append(((i, j, k), data_ijk))\n",
    "for (row_i, col_j, hue_k), data_ijk in facet_data_ret:\n",
    "\n",
    "    # FacetGrid.facet_axis(g, row_i, col_j)\n",
    "    ax = axes[row_i, col_j]\n",
    "    plt.sca(ax)\n",
    "\n",
    "    # FacetGrid._facet_color(g, hue_k, kw_color)\n",
    "    color = palette[hue_k]\n",
    "    plot_data = data_ijk[list(['petal_length'])]\n",
    "    plot_data = plot_data.dropna()\n",
    "    plot_args = [v for k, v in plot_data.iteritems()]\n",
    "    plot_args = [v.values for v in plot_args]\n",
    "\n",
    "    # FacetGrid._facet_plot(g, plt.hist, ax, plot_args, kwargs)\n",
    "    plt.hist(plot_args[0])\n",
    "\n",
    "    # FacetGrid._update_legend_data(g, ax)\n",
    "    handles, labels = ax.get_legend_handles_labels()\n",
    "    data = {l: h for h, l in zip(handles, labels)}\n",
    "    _legend_data.update(data)\n",
    "\n",
    "    # FacetGrid._clean_axis(g, ax)\n",
    "    ax.set_xlabel('')\n",
    "    ax.set_ylabel('')\n",
    "    ax.legend_ = None\n",
    "\n",
    "# FacetGrid._finalize_grid(g, ['petal_length'])\n",
    "\n",
    "# FacetGrid.set_axis_labels(g, 'petal_length')\n",
    "\n",
    "# FacetGrid.set_xlabels(g, 'petal_length')\n",
    "\n",
    "# FacetGrid._bottom_axes_getter(g)\n",
    "_bottom_axes = axes[(-1), :].flat\n",
    "_bottom_axes[1].set_xlabel('petal_length')\n",
    "\n",
    "# FacetGrid.set_titles(g)\n",
    "size = {}.pop('size', mpl.rcParams['axes.labelsize'])\n",
    "template = '{col_var} = {col_name}'\n",
    "template = utils.to_utf8(template)\n",
    "for i, col_name in enumerate(col_names):\n",
    "    title = template.format(row_var=None, col_var='species', col_name=col_name)\n",
    "    axes.flat[i].set_title(title, size=size)\n",
    "fig.tight_layout()"
   ]
  },
  {
   "cell_type": "code",
   "execution_count": 28,
   "metadata": {
    "ExecuteTime": {
     "end_time": "2020-01-07T00:09:40.702603Z",
     "start_time": "2020-01-07T00:09:40.667815Z"
    },
    "code_folding": [],
    "deletable": false,
    "editable": false,
    "hide_input": true,
    "scrolled": true
   },
   "outputs": [
    {
     "data": {
      "application/vnd.jupyter.widget-view+json": {
       "model_id": "126edd9961234bf3a9580dab74f510ca",
       "version_major": 2,
       "version_minor": 0
      },
      "text/plain": [
       "Button(description='Start Task 2.2', style=ButtonStyle())"
      ]
     },
     "metadata": {},
     "output_type": "display_data"
    }
   ],
   "source": [
    "experiment_start('Task 2.2')"
   ]
  },
  {
   "cell_type": "code",
   "execution_count": null,
   "metadata": {},
   "outputs": [],
   "source": []
  },
  {
   "cell_type": "code",
   "execution_count": 29,
   "metadata": {
    "ExecuteTime": {
     "end_time": "2020-01-07T00:09:40.752674Z",
     "start_time": "2020-01-07T00:09:40.705559Z"
    },
    "deletable": false,
    "editable": false,
    "hide_input": true,
    "scrolled": true
   },
   "outputs": [
    {
     "data": {
      "application/vnd.jupyter.widget-view+json": {
       "model_id": "ead3186cbf8a4fb0a77c83fc9b8f28ce",
       "version_major": 2,
       "version_minor": 0
      },
      "text/plain": [
       "Button(description='End Task 2.2', style=ButtonStyle())"
      ]
     },
     "metadata": {},
     "output_type": "display_data"
    }
   ],
   "source": [
    "experiment_end('Task 2.2')"
   ]
  },
  {
   "cell_type": "markdown",
   "metadata": {
    "deletable": false,
    "editable": false,
    "run_control": {
     "frozen": true
    }
   },
   "source": [
    "### Task 2.3: Change colors to match boxplot\n",
    "\n",
    "By default, the FacetGrid plots each histogram the same shade of blue. You need to make each histogram have the same color of the corresponding boxplot in the previous code snippet."
   ]
  },
  {
   "cell_type": "code",
   "execution_count": 30,
   "metadata": {
    "ExecuteTime": {
     "end_time": "2020-01-07T00:09:41.259994Z",
     "start_time": "2020-01-07T00:09:40.755352Z"
    },
    "deletable": false,
    "editable": false,
    "hide_input": true
   },
   "outputs": [
    {
     "data": {
      "image/png": "[encoded data removed]",
      "text/plain": [
       "<Figure size 648x216 with 3 Axes>"
      ]
     },
     "metadata": {
      "needs_background": "light"
     },
     "output_type": "display_data"
    }
   ],
   "source": [
    "from distutils.version import LooseVersion\n",
    "from seaborn.palettes import color_palette\n",
    "import warnings\n",
    "from itertools import product\n",
    "import matplotlib.pyplot as plt\n",
    "from seaborn import utils\n",
    "import matplotlib as mpl\n",
    "import numpy as np\n",
    "\n",
    "# sns.FacetGrid(FacetGrid_ret, data=iris, col='species')\n",
    "OLD_MPL = LooseVersion(mpl.__version__) < LooseVersion('1.4')\n",
    "\n",
    "# FacetGrid._get_palette(FacetGrid_ret, iris, None, None, None)\n",
    "current_palette = utils.get_color_cycle()\n",
    "colors = color_palette(n_colors=3)\n",
    "colors = color_palette(colors, desat=0.75)\n",
    "rgb_colors = color_palette(colors)\n",
    "\n",
    "col_names = utils.categorical_order(iris['species'], None)\n",
    "none_na = np.zeros(len(iris), np.bool)\n",
    "col_na = iris['species'].isnull()\n",
    "not_na = ~(none_na | col_na | none_na)\n",
    "ncol = len(col_names)\n",
    "_n_facets = ncol * 1\n",
    "figsize = ncol * 3 * 1, 3\n",
    "fig, axes = plt.subplots(1, ncol, figsize=figsize, squeeze=False, sharex=\n",
    "    True, sharey=True, subplot_kw={}, gridspec_kw={})\n",
    "_legend_data = {}\n",
    "fig.tight_layout()\n",
    "\n",
    "# FacetGrid.despine(FacetGrid_ret)\n",
    "utils.despine(fig)\n",
    "\n",
    "# FacetGrid.map(g, plt.hist, 'petal_length', bins=np.arange(0, 7.5, 0.2))\n",
    "bins = np.arange(0, 7.5, 0.2)\n",
    "kw_color = {}.pop('color', None)\n",
    "facet_data_ret = []\n",
    "\n",
    "# FacetGrid.facet_data(g)\n",
    "row_masks = [np.repeat(True, len(iris))]\n",
    "col_masks = [(iris['species'] == n) for n in col_names]\n",
    "hue_masks = [np.repeat(True, len(iris))]\n",
    "for (i, row), (j, col), (k, hue) in product(enumerate(row_masks), enumerate\n",
    "    (col_masks), enumerate(hue_masks)):\n",
    "    data_ijk = iris[row & col & hue & not_na]\n",
    "    facet_data_ret.append(((i, j, k), data_ijk))\n",
    "for (row_i, col_j, hue_k), data_ijk in facet_data_ret:\n",
    "\n",
    "    # FacetGrid.facet_axis(g, row_i, col_j)\n",
    "    ax = axes[row_i, col_j]\n",
    "    plt.sca(ax)\n",
    "\n",
    "    # FacetGrid._facet_color(g, hue_k, kw_color)\n",
    "    color = rgb_colors[col_j]\n",
    "    plot_data = data_ijk[list(['petal_length'])]\n",
    "    plot_data = plot_data.dropna()\n",
    "    plot_args = [v for k, v in plot_data.iteritems()]\n",
    "    plot_args = [v.values for v in plot_args]\n",
    "\n",
    "    # FacetGrid._facet_plot(g, plt.hist, ax, plot_args, kwargs)\n",
    "    plt.hist(plot_args[0], color=color)\n",
    "\n",
    "    # FacetGrid._update_legend_data(g, ax)\n",
    "    handles, labels = ax.get_legend_handles_labels()\n",
    "    data = {l: h for h, l in zip(handles, labels)}\n",
    "    _legend_data.update(data)\n",
    "\n",
    "    # FacetGrid._clean_axis(g, ax)\n",
    "    ax.set_xlabel('')\n",
    "    ax.set_ylabel('')\n",
    "    ax.legend_ = None\n",
    "\n",
    "# FacetGrid._finalize_grid(g, ['petal_length'])\n",
    "\n",
    "# FacetGrid.set_axis_labels(g, 'petal_length')\n",
    "\n",
    "# FacetGrid.set_xlabels(g, 'petal_length')\n",
    "\n",
    "# FacetGrid._bottom_axes_getter(g)\n",
    "_bottom_axes = axes[(-1), :].flat\n",
    "for ax in _bottom_axes:\n",
    "    ax.set_xlabel('petal_length')\n",
    "\n",
    "# FacetGrid.set_titles(g)\n",
    "size = {}.pop('size', mpl.rcParams['axes.labelsize'])\n",
    "template = '{col_var} = {col_name}'\n",
    "template = utils.to_utf8(template)\n",
    "for i, col_name in enumerate(col_names):\n",
    "    title = template.format(row_var=None, col_var='species', col_name=col_name)\n",
    "    axes.flat[i].set_title(title, size=size)\n",
    "fig.tight_layout()"
   ]
  },
  {
   "cell_type": "code",
   "execution_count": 31,
   "metadata": {
    "ExecuteTime": {
     "end_time": "2020-01-07T00:09:41.296844Z",
     "start_time": "2020-01-07T00:09:41.262093Z"
    },
    "code_folding": [],
    "deletable": false,
    "editable": false,
    "hide_input": true,
    "scrolled": true
   },
   "outputs": [
    {
     "data": {
      "application/vnd.jupyter.widget-view+json": {
       "model_id": "09880f1adfd64325abd89b95b5f0fde9",
       "version_major": 2,
       "version_minor": 0
      },
      "text/plain": [
       "Button(description='Start Task 2.3', style=ButtonStyle())"
      ]
     },
     "metadata": {},
     "output_type": "display_data"
    }
   ],
   "source": [
    "experiment_start('Task 2.3')"
   ]
  },
  {
   "cell_type": "code",
   "execution_count": null,
   "metadata": {
    "hide_input": false
   },
   "outputs": [],
   "source": []
  },
  {
   "cell_type": "code",
   "execution_count": 32,
   "metadata": {
    "ExecuteTime": {
     "end_time": "2020-01-07T00:09:41.333237Z",
     "start_time": "2020-01-07T00:09:41.301443Z"
    },
    "deletable": false,
    "editable": false,
    "hide_input": true,
    "scrolled": true
   },
   "outputs": [
    {
     "data": {
      "application/vnd.jupyter.widget-view+json": {
       "model_id": "ac56c47fd3764728bccf28cb6e4e2e7f",
       "version_major": 2,
       "version_minor": 0
      },
      "text/plain": [
       "Button(description='End Task 2.3', style=ButtonStyle())"
      ]
     },
     "metadata": {},
     "output_type": "display_data"
    }
   ],
   "source": [
    "experiment_end('Task 2.3')"
   ]
  }
 ],
 "metadata": {
  "kernelspec": {
   "display_name": "Python 3",
   "language": "python",
   "name": "python3"
  },
  "language_info": {
   "codemirror_mode": {
    "name": "ipython",
    "version": 3
   },
   "file_extension": ".py",
   "mimetype": "text/x-python",
   "name": "python",
   "nbconvert_exporter": "python",
   "pygments_lexer": "ipython3",
   "version": "3.7.3"
  },
  "toc": {
   "base_numbering": 1,
   "nav_menu": {},
   "number_sections": true,
   "sideBar": true,
   "skip_h1_title": false,
   "title_cell": "Table of Contents",
   "title_sidebar": "Contents",
   "toc_cell": false,
   "toc_position": {},
   "toc_section_display": true,
   "toc_window_display": false
  },
  "varInspector": {
   "cols": {
    "lenName": 16,
    "lenType": 16,
    "lenVar": 40
   },
   "kernels_config": {
    "python": {
     "delete_cmd_postfix": "",
     "delete_cmd_prefix": "del ",
     "library": "var_list.py",
     "varRefreshCmd": "print(var_dic_list())"
    },
    "r": {
     "delete_cmd_postfix": ") ",
     "delete_cmd_prefix": "rm(",
     "library": "var_list.r",
     "varRefreshCmd": "cat(var_dic_list()) "
    }
   },
   "types_to_exclude": [
    "module",
    "function",
    "builtin_function_or_method",
    "instance",
    "_Feature"
   ],
   "window_display": false
  }
 },
 "nbformat": 4,
 "nbformat_minor": 2
}
