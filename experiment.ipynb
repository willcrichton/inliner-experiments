{
 "cells": [
  {
   "cell_type": "markdown",
   "metadata": {
    "ExecuteTime": {
     "end_time": "2020-01-06T21:21:05.249962Z",
     "start_time": "2020-01-06T21:21:04.066046Z"
    }
   },
   "source": [
    "<span style=\"font-size: 20px; font-weight: bold\">Click \"Cell > Run All\" before proceeding.</span>\n",
    "\n",
    "# Inliner user study\n",
    "\n",
    "In this experiment, you will be provided two snippets of code using the [Seaborn library](http://seaborn.pydata.org/) to visualize data. You will attempt several tasks involving understanding and modifying the code. **Your goal is to solve the tasks as quickly as possible, by any means necessary.** Your answers will not be judged for cleanliness, quality, etc., just correctness.\n",
    "\n",
    "A few notes on the parameters of the experiment.\n",
    "\n",
    "1. You are free to use any resources to solve the problem, including Google and StackOverflow. You may also read and modify the Seaborn library itself -- a copy has been provided in `./seaborn`, and any edits will automatically propagate into this notebook. <br /> <br />\n",
    "\n",
    "2. The tasks have been specifically designed to not be solvable just through the normal documentation. Again, you may need to edit the library source code.<br /> <br />\n",
    "\n",
    "5. The answers to the tasks are NOT cumulative. You should start from the original code snippet each time.<br /> <br />\n",
    "\n",
    "3. Open the [scratchpad notebook](/notebooks/scratchpad.ipynb). You are encouraged to do your work in the scratchpad and then put your final answers in the cells below.<br /> <br />\n",
    "\n",
    "4. Record your screen during the experiment. On Mac, press Command-Shift-5 and click the \"Record Entire Screen\" button, then press \"Record\". On Windows, press Window-G to open the Game Bar and Window-Alt-R to start recording.\n",
    "\n"
   ]
  },
  {
   "cell_type": "markdown",
   "metadata": {
    "ExecuteTime": {
     "end_time": "2020-01-06T21:21:05.249962Z",
     "start_time": "2020-01-06T21:21:04.066046Z"
    },
    "deletable": false,
    "editable": false,
    "run_control": {
     "frozen": true
    }
   },
   "source": [
    "## Problem setup\n",
    "\n",
    "First, we will setup the modules and environment for the task. "
   ]
  },
  {
   "cell_type": "code",
   "execution_count": 1,
   "metadata": {
    "ExecuteTime": {
     "end_time": "2020-01-20T06:42:15.061903Z",
     "start_time": "2020-01-20T06:42:13.632544Z"
    }
   },
   "outputs": [],
   "source": [
    "%load_ext autoreload\n",
    "%autoreload 2\n",
    "import seaborn as sns\n",
    "import matplotlib.pyplot as plt\n",
    "import matplotlib as mpl\n",
    "import numpy as np\n",
    "from expinfra import *"
   ]
  },
  {
   "cell_type": "markdown",
   "metadata": {},
   "source": [
    "We will use the sample `tips` dataset containing tipping data from a restaurant. The dataframe is shown below. "
   ]
  },
  {
   "cell_type": "code",
   "execution_count": 3,
   "metadata": {
    "ExecuteTime": {
     "end_time": "2020-01-20T06:42:16.337616Z",
     "start_time": "2020-01-20T06:42:16.276119Z"
    }
   },
   "outputs": [
    {
     "data": {
      "text/html": [
       "<div>\n",
       "<style scoped>\n",
       "    .dataframe tbody tr th:only-of-type {\n",
       "        vertical-align: middle;\n",
       "    }\n",
       "\n",
       "    .dataframe tbody tr th {\n",
       "        vertical-align: top;\n",
       "    }\n",
       "\n",
       "    .dataframe thead th {\n",
       "        text-align: right;\n",
       "    }\n",
       "</style>\n",
       "<table border=\"1\" class=\"dataframe\">\n",
       "  <thead>\n",
       "    <tr style=\"text-align: right;\">\n",
       "      <th></th>\n",
       "      <th>total_bill</th>\n",
       "      <th>tip</th>\n",
       "      <th>sex</th>\n",
       "      <th>smoker</th>\n",
       "      <th>day</th>\n",
       "      <th>time</th>\n",
       "      <th>size</th>\n",
       "    </tr>\n",
       "  </thead>\n",
       "  <tbody>\n",
       "    <tr>\n",
       "      <th>0</th>\n",
       "      <td>16.99</td>\n",
       "      <td>1.01</td>\n",
       "      <td>Female</td>\n",
       "      <td>No</td>\n",
       "      <td>Sun</td>\n",
       "      <td>Dinner</td>\n",
       "      <td>2</td>\n",
       "    </tr>\n",
       "    <tr>\n",
       "      <th>1</th>\n",
       "      <td>10.34</td>\n",
       "      <td>1.66</td>\n",
       "      <td>Male</td>\n",
       "      <td>No</td>\n",
       "      <td>Sun</td>\n",
       "      <td>Dinner</td>\n",
       "      <td>3</td>\n",
       "    </tr>\n",
       "    <tr>\n",
       "      <th>2</th>\n",
       "      <td>21.01</td>\n",
       "      <td>3.50</td>\n",
       "      <td>Male</td>\n",
       "      <td>No</td>\n",
       "      <td>Sun</td>\n",
       "      <td>Dinner</td>\n",
       "      <td>3</td>\n",
       "    </tr>\n",
       "    <tr>\n",
       "      <th>3</th>\n",
       "      <td>23.68</td>\n",
       "      <td>3.31</td>\n",
       "      <td>Male</td>\n",
       "      <td>No</td>\n",
       "      <td>Sun</td>\n",
       "      <td>Dinner</td>\n",
       "      <td>2</td>\n",
       "    </tr>\n",
       "    <tr>\n",
       "      <th>4</th>\n",
       "      <td>24.59</td>\n",
       "      <td>3.61</td>\n",
       "      <td>Female</td>\n",
       "      <td>No</td>\n",
       "      <td>Sun</td>\n",
       "      <td>Dinner</td>\n",
       "      <td>4</td>\n",
       "    </tr>\n",
       "    <tr>\n",
       "      <th>...</th>\n",
       "      <td>...</td>\n",
       "      <td>...</td>\n",
       "      <td>...</td>\n",
       "      <td>...</td>\n",
       "      <td>...</td>\n",
       "      <td>...</td>\n",
       "      <td>...</td>\n",
       "    </tr>\n",
       "    <tr>\n",
       "      <th>239</th>\n",
       "      <td>29.03</td>\n",
       "      <td>5.92</td>\n",
       "      <td>Male</td>\n",
       "      <td>No</td>\n",
       "      <td>Sat</td>\n",
       "      <td>Dinner</td>\n",
       "      <td>3</td>\n",
       "    </tr>\n",
       "    <tr>\n",
       "      <th>240</th>\n",
       "      <td>27.18</td>\n",
       "      <td>2.00</td>\n",
       "      <td>Female</td>\n",
       "      <td>Yes</td>\n",
       "      <td>Sat</td>\n",
       "      <td>Dinner</td>\n",
       "      <td>2</td>\n",
       "    </tr>\n",
       "    <tr>\n",
       "      <th>241</th>\n",
       "      <td>22.67</td>\n",
       "      <td>2.00</td>\n",
       "      <td>Male</td>\n",
       "      <td>Yes</td>\n",
       "      <td>Sat</td>\n",
       "      <td>Dinner</td>\n",
       "      <td>2</td>\n",
       "    </tr>\n",
       "    <tr>\n",
       "      <th>242</th>\n",
       "      <td>17.82</td>\n",
       "      <td>1.75</td>\n",
       "      <td>Male</td>\n",
       "      <td>No</td>\n",
       "      <td>Sat</td>\n",
       "      <td>Dinner</td>\n",
       "      <td>2</td>\n",
       "    </tr>\n",
       "    <tr>\n",
       "      <th>243</th>\n",
       "      <td>18.78</td>\n",
       "      <td>3.00</td>\n",
       "      <td>Female</td>\n",
       "      <td>No</td>\n",
       "      <td>Thur</td>\n",
       "      <td>Dinner</td>\n",
       "      <td>2</td>\n",
       "    </tr>\n",
       "  </tbody>\n",
       "</table>\n",
       "<p>244 rows × 7 columns</p>\n",
       "</div>"
      ],
      "text/plain": [
       "     total_bill   tip     sex smoker   day    time  size\n",
       "0         16.99  1.01  Female     No   Sun  Dinner     2\n",
       "1         10.34  1.66    Male     No   Sun  Dinner     3\n",
       "2         21.01  3.50    Male     No   Sun  Dinner     3\n",
       "3         23.68  3.31    Male     No   Sun  Dinner     2\n",
       "4         24.59  3.61  Female     No   Sun  Dinner     4\n",
       "..          ...   ...     ...    ...   ...     ...   ...\n",
       "239       29.03  5.92    Male     No   Sat  Dinner     3\n",
       "240       27.18  2.00  Female    Yes   Sat  Dinner     2\n",
       "241       22.67  2.00    Male    Yes   Sat  Dinner     2\n",
       "242       17.82  1.75    Male     No   Sat  Dinner     2\n",
       "243       18.78  3.00  Female     No  Thur  Dinner     2\n",
       "\n",
       "[244 rows x 7 columns]"
      ]
     },
     "execution_count": 3,
     "metadata": {},
     "output_type": "execute_result"
    }
   ],
   "source": [
    "tips = sns.load_dataset('tips')\n",
    "tips"
   ]
  },
  {
   "cell_type": "markdown",
   "metadata": {},
   "source": [
    "## Code Snippet #1: Boxplot\n",
    "\n",
    "The first code snippet is shown below. It generates a boxplot of the `tip` column grouped by the `day` using the [seaborn.boxplot](https://seaborn.pydata.org/generated/seaborn.boxplot.html) function."
   ]
  },
  {
   "cell_type": "code",
   "execution_count": 2,
   "metadata": {
    "ExecuteTime": {
     "end_time": "2020-01-20T06:42:15.525923Z",
     "start_time": "2020-01-20T06:42:15.498773Z"
    }
   },
   "outputs": [
    {
     "ename": "NameError",
     "evalue": "name 'tips' is not defined",
     "output_type": "error",
     "traceback": [
      "\u001b[0;31m---------------------------------------------------------------------------\u001b[0m",
      "\u001b[0;31mNameError\u001b[0m                                 Traceback (most recent call last)",
      "\u001b[0;32m<ipython-input-2-5abab1db7e63>\u001b[0m in \u001b[0;36m<module>\u001b[0;34m\u001b[0m\n\u001b[0;32m----> 1\u001b[0;31m \u001b[0msns\u001b[0m\u001b[0;34m.\u001b[0m\u001b[0mboxplot\u001b[0m\u001b[0;34m(\u001b[0m\u001b[0mx\u001b[0m\u001b[0;34m=\u001b[0m\u001b[0mtips\u001b[0m\u001b[0;34m.\u001b[0m\u001b[0mday\u001b[0m\u001b[0;34m,\u001b[0m \u001b[0my\u001b[0m\u001b[0;34m=\u001b[0m\u001b[0mtips\u001b[0m\u001b[0;34m.\u001b[0m\u001b[0mtip\u001b[0m\u001b[0;34m)\u001b[0m\u001b[0;34m\u001b[0m\u001b[0;34m\u001b[0m\u001b[0m\n\u001b[0m",
      "\u001b[0;31mNameError\u001b[0m: name 'tips' is not defined"
     ]
    }
   ],
   "source": [
    "sns.boxplot(x=tips.day, y=tips.tip)"
   ]
  },
  {
   "cell_type": "markdown",
   "metadata": {},
   "source": [
    "### Example Task: Plot `time` instead of `day` on the x-axis\n",
    "\n",
    "To warm up with the experiment infrastructure, we will walk through an example task. For each task, you will be given a prompt (above) and a short description. Here, your goal is to change the `x` axis to show `time` from the tips dataset, not `day`.\n",
    "\n",
    "If the task is to edit the code, the desired output will be provided. Your result must look **identical** to the desired output."
   ]
  },
  {
   "cell_type": "code",
   "execution_count": null,
   "metadata": {
    "ExecuteTime": {
     "end_time": "2020-01-09T21:52:08.704684Z",
     "start_time": "2020-01-09T21:52:08.539855Z"
    },
    "hide_input": false
   },
   "outputs": [],
   "source": [
    "    _ = sns.boxplot(x=tips.time, y=tips.tip)"
   ]
  },
  {
   "cell_type": "markdown",
   "metadata": {
    "ExecuteTime": {
     "end_time": "2020-01-06T23:24:58.393904Z",
     "start_time": "2020-01-06T23:24:58.368331Z"
    },
    "deletable": false,
    "editable": false,
    "run_control": {
     "frozen": true
    }
   },
   "source": [
    "Once you have read the task description, before you start the task, click the \"Start &lt;Task Name&gt;\" button. Then enter your solution in the cell below. Once you believe you have finished the task, click the \"End &lt;Task Name&gt;\" button and proceed to the next task."
   ]
  },
  {
   "cell_type": "code",
   "execution_count": null,
   "metadata": {
    "ExecuteTime": {
     "end_time": "2020-01-08T22:50:03.235827Z",
     "start_time": "2020-01-08T22:50:03.208012Z"
    },
    "code_folding": [],
    "deletable": false,
    "editable": false,
    "hide_input": false
   },
   "outputs": [],
   "source": [
    "experiment_start('Example Task')"
   ]
  },
  {
   "cell_type": "code",
   "execution_count": null,
   "metadata": {
    "ExecuteTime": {
     "end_time": "2020-01-08T19:30:48.822400Z",
     "start_time": "2020-01-08T19:30:48.597867Z"
    },
    "hide_input": false
   },
   "outputs": [],
   "source": []
  },
  {
   "cell_type": "code",
   "execution_count": null,
   "metadata": {
    "ExecuteTime": {
     "end_time": "2020-01-08T22:50:03.268749Z",
     "start_time": "2020-01-08T22:50:03.238183Z"
    },
    "deletable": false,
    "editable": false,
    "hide_input": true
   },
   "outputs": [],
   "source": [
    "experiment_end('Example Task')"
   ]
  },
  {
   "cell_type": "markdown",
   "metadata": {},
   "source": [
    "**Do not forget to click \"End task\" before moving on!**\n",
    "\n",
    "### Task 1.1: Change the y-axis label to “Tip amount ($)”\n",
    "\n",
    "Put your answer in the code cell below. It should generate an inline Matplotlib graph identical to the one below."
   ]
  },
  {
   "cell_type": "code",
   "execution_count": null,
   "metadata": {
    "ExecuteTime": {
     "end_time": "2020-01-09T21:53:09.844098Z",
     "start_time": "2020-01-09T21:53:09.640343Z"
    },
    "hide_input": false
   },
   "outputs": [],
   "source": [
    "ax = sns.boxplot(x=tips.day, y=tips.tip)\n",
    "_ = ax.set_ylabel('Tip amount ($)')"
   ]
  },
  {
   "cell_type": "code",
   "execution_count": null,
   "metadata": {
    "ExecuteTime": {
     "end_time": "2020-01-09T21:42:16.954170Z",
     "start_time": "2020-01-09T21:42:16.909441Z"
    },
    "code_folding": [],
    "hide_input": true,
    "scrolled": true
   },
   "outputs": [],
   "source": [
    "experiment_start('Task 1.1')"
   ]
  },
  {
   "cell_type": "code",
   "execution_count": null,
   "metadata": {},
   "outputs": [],
   "source": []
  },
  {
   "cell_type": "code",
   "execution_count": null,
   "metadata": {
    "ExecuteTime": {
     "end_time": "2020-01-09T21:42:21.919641Z",
     "start_time": "2020-01-09T21:42:21.888789Z"
    },
    "hide_input": true,
    "scrolled": true
   },
   "outputs": [],
   "source": [
    "experiment_end('Task 1.1')"
   ]
  },
  {
   "cell_type": "markdown",
   "metadata": {},
   "source": [
    "### Task 1.2: Set width of box lines to half of default thickness\n",
    "\n",
    "Do not try to eyeball the line thickness--it must be precisely half of the default value used by Seaborn."
   ]
  },
  {
   "cell_type": "code",
   "execution_count": null,
   "metadata": {
    "ExecuteTime": {
     "end_time": "2020-01-09T21:53:33.148663Z",
     "start_time": "2020-01-09T21:53:32.955586Z"
    },
    "hide_input": true
   },
   "outputs": [],
   "source": [
    "_ = sns.boxplot(x=tips.day, y=tips.tip, linewidth=mpl.rcParams['lines.linewidth']/2)"
   ]
  },
  {
   "cell_type": "code",
   "execution_count": null,
   "metadata": {
    "ExecuteTime": {
     "end_time": "2020-01-09T21:42:50.231031Z",
     "start_time": "2020-01-09T21:42:50.199862Z"
    },
    "code_folding": [],
    "hide_input": true
   },
   "outputs": [],
   "source": [
    "experiment_start('Task 1.2')"
   ]
  },
  {
   "cell_type": "code",
   "execution_count": null,
   "metadata": {},
   "outputs": [],
   "source": []
  },
  {
   "cell_type": "code",
   "execution_count": null,
   "metadata": {
    "ExecuteTime": {
     "end_time": "2020-01-09T21:42:37.574000Z",
     "start_time": "2020-01-09T21:42:37.548719Z"
    },
    "hide_input": true,
    "scrolled": false
   },
   "outputs": [],
   "source": [
    "experiment_end('Task 1.2')"
   ]
  },
  {
   "cell_type": "markdown",
   "metadata": {},
   "source": [
    "## Task 1.3: Draw outliers as points, not diamonds\n",
    "\n",
    "Outliers are the marks drawn outside the boxplot range. By default, they are diamonds. They should instead be drawn as points."
   ]
  },
  {
   "cell_type": "code",
   "execution_count": null,
   "metadata": {
    "ExecuteTime": {
     "end_time": "2020-01-09T21:54:34.153998Z",
     "start_time": "2020-01-09T21:54:33.950409Z"
    },
    "hide_input": true
   },
   "outputs": [],
   "source": [
    "_ = sns.boxplot(x=tips.day, y=tips.tip, flierprops={'marker': '.'})"
   ]
  },
  {
   "cell_type": "code",
   "execution_count": null,
   "metadata": {
    "ExecuteTime": {
     "end_time": "2020-01-09T21:43:16.015854Z",
     "start_time": "2020-01-09T21:43:15.984485Z"
    },
    "code_folding": [],
    "hide_input": true
   },
   "outputs": [],
   "source": [
    "experiment_start('Task 1.3')"
   ]
  },
  {
   "cell_type": "code",
   "execution_count": null,
   "metadata": {},
   "outputs": [],
   "source": []
  },
  {
   "cell_type": "code",
   "execution_count": null,
   "metadata": {
    "ExecuteTime": {
     "end_time": "2020-01-09T21:43:16.488270Z",
     "start_time": "2020-01-09T21:43:16.458950Z"
    },
    "hide_input": true,
    "scrolled": true
   },
   "outputs": [],
   "source": [
    "experiment_end('Task 1.3')"
   ]
  },
  {
   "cell_type": "markdown",
   "metadata": {},
   "source": [
    "## Code Snippet #2: FacetGrid\n",
    "\n",
    "The second code snippet is below. It uses Seaborn's [FacetGrid](https://seaborn.pydata.org/generated/seaborn.FacetGrid.html) API to create a histogram of `tip` for each pair of `sex` and `day`. It works by first creating a facet grid object each row as `sex` and each column as `day`. Then the `g.map(plt.hist, 'tip')` runs the Matplotlib histogram function over the `tip` values of each `sex` and `day` pair."
   ]
  },
  {
   "cell_type": "code",
   "execution_count": null,
   "metadata": {
    "ExecuteTime": {
     "end_time": "2020-01-08T23:32:43.179817Z",
     "start_time": "2020-01-08T23:32:41.585042Z"
    }
   },
   "outputs": [],
   "source": [
    "g = sns.FacetGrid(data=tips, row='sex', col='day')\n",
    "g.map(plt.hist, 'tip')"
   ]
  },
  {
   "cell_type": "markdown",
   "metadata": {},
   "source": [
    "### Task 2.1:  Change title to look like e.g. sex: \"Male\", day: \"Thur\"\n",
    "\n",
    "The default title styling is \"sex = ... | day = ...\". Change the formatting as above.\n"
   ]
  },
  {
   "cell_type": "code",
   "execution_count": null,
   "metadata": {
    "ExecuteTime": {
     "end_time": "2020-01-09T21:49:13.526348Z",
     "start_time": "2020-01-09T21:49:11.905723Z"
    },
    "hide_input": true
   },
   "outputs": [],
   "source": [
    "g = sns.FacetGrid(data=tips, row='sex', col='day')\n",
    "g.map(plt.hist, 'tip')\n",
    "_ = g.set_titles('{row_var}: \"{row_name}\", {col_var}: \"{col_name}\"')"
   ]
  },
  {
   "cell_type": "code",
   "execution_count": null,
   "metadata": {
    "ExecuteTime": {
     "end_time": "2020-01-08T22:50:05.520867Z",
     "start_time": "2020-01-08T22:50:05.493995Z"
    },
    "code_folding": [],
    "hide_input": true,
    "scrolled": true
   },
   "outputs": [],
   "source": [
    "experiment_start('Task 2.1')"
   ]
  },
  {
   "cell_type": "code",
   "execution_count": null,
   "metadata": {},
   "outputs": [],
   "source": []
  },
  {
   "cell_type": "code",
   "execution_count": null,
   "metadata": {
    "ExecuteTime": {
     "end_time": "2020-01-08T22:50:05.547267Z",
     "start_time": "2020-01-08T22:50:05.522143Z"
    },
    "hide_input": true,
    "scrolled": true
   },
   "outputs": [],
   "source": [
    "experiment_end('Task 2.1')"
   ]
  },
  {
   "cell_type": "markdown",
   "metadata": {},
   "source": [
    "### Task 2.2: Draw a red vertical line at the median value in each plot\n",
    "\n",
    "You may want to use [Axes.axvline](https://matplotlib.org/3.1.1/api/_as_gen/matplotlib.axes.Axes.axvline.html)."
   ]
  },
  {
   "cell_type": "code",
   "execution_count": null,
   "metadata": {
    "ExecuteTime": {
     "end_time": "2020-01-09T21:46:24.251721Z",
     "start_time": "2020-01-09T21:46:22.478448Z"
    },
    "hide_input": true
   },
   "outputs": [],
   "source": [
    "from distutils.version import LooseVersion\n",
    "from seaborn.palettes import color_palette\n",
    "import warnings\n",
    "from itertools import product\n",
    "import matplotlib.pyplot as plt\n",
    "from seaborn import utils\n",
    "import matplotlib as mpl\n",
    "import numpy as np\n",
    "\n",
    "# sns.FacetGrid(FacetGrid_ret, data=tips, row='sex', col='day')\n",
    "OLD_MPL = LooseVersion(mpl.__version__) < LooseVersion('1.4')\n",
    "\n",
    "# FacetGrid._get_palette(FacetGrid_ret, tips, None, None, None)\n",
    "palette = color_palette(n_colors=1)\n",
    "row_names = utils.categorical_order(tips['sex'], None)\n",
    "col_names = utils.categorical_order(tips['day'], None)\n",
    "none_na = np.zeros(len(tips), np.bool)\n",
    "row_na = tips['sex'].isnull()\n",
    "col_na = tips['day'].isnull()\n",
    "not_na = ~(row_na | col_na | none_na)\n",
    "ncol = len(col_names)\n",
    "nrow = len(row_names)\n",
    "_n_facets = ncol * nrow\n",
    "figsize = ncol * 3 * 1, nrow * 3\n",
    "fig, axes = plt.subplots(nrow, ncol, figsize=figsize, squeeze=False, sharex\n",
    "    =True, sharey=True, subplot_kw={}, gridspec_kw={})\n",
    "_legend_data = {}\n",
    "fig.tight_layout()\n",
    "\n",
    "# FacetGrid.despine(FacetGrid_ret)\n",
    "utils.despine(fig)\n",
    "\n",
    "# FacetGrid.map(g, plt.hist, 'tip')\n",
    "kw_color = {}.pop('color', None)\n",
    "facet_data_ret = []\n",
    "\n",
    "# FacetGrid.facet_data(g)\n",
    "row_masks = [(tips['sex'] == n) for n in row_names]\n",
    "col_masks = [(tips['day'] == n) for n in col_names]\n",
    "hue_masks = [np.repeat(True, len(tips))]\n",
    "for (i, row), (j, col), (k, hue) in product(enumerate(row_masks), enumerate\n",
    "    (col_masks), enumerate(hue_masks)):\n",
    "    data_ijk = tips[row & col & hue & not_na]\n",
    "    facet_data_ret.append(((i, j, k), data_ijk))\n",
    "for (row_i, col_j, hue_k), data_ijk in facet_data_ret:\n",
    "\n",
    "    # FacetGrid.facet_axis(g, row_i, col_j)\n",
    "    ax = axes[row_i, col_j]\n",
    "    plt.sca(ax)\n",
    "\n",
    "    # FacetGrid._facet_color(g, hue_k, kw_color)\n",
    "    color = palette[hue_k]\n",
    "    plot_data = data_ijk[list(['tip'])]\n",
    "    plot_data = plot_data.dropna()\n",
    "    plot_args = [v for k, v in plot_data.iteritems()]\n",
    "    plot_args = [v.values for v in plot_args]\n",
    "\n",
    "    # FacetGrid._facet_plot(g, plt.hist, ax, plot_args, kwargs)\n",
    "    plt.hist(plot_args[0])\n",
    "    ax.axvline(plot_data.median().tip, color='r')\n",
    "\n",
    "    # FacetGrid._update_legend_data(g, ax)\n",
    "    handles, labels = ax.get_legend_handles_labels()\n",
    "    data = {l: h for h, l in zip(handles, labels)}\n",
    "    _legend_data.update(data)\n",
    "\n",
    "    # FacetGrid._clean_axis(g, ax)\n",
    "    ax.set_xlabel('')\n",
    "    ax.set_ylabel('')\n",
    "    ax.legend_ = None\n",
    "\n",
    "# FacetGrid._finalize_grid(g, ['tip'])\n",
    "\n",
    "# FacetGrid.set_axis_labels(g, 'tip')\n",
    "\n",
    "# FacetGrid.set_xlabels(g, 'tip')\n",
    "\n",
    "# FacetGrid._bottom_axes_getter(g)\n",
    "_bottom_axes = axes[(-1), :].flat\n",
    "for ax in _bottom_axes:\n",
    "    ax.set_xlabel('tip')\n",
    "    \n",
    "# FacetGrid.set_titles(g)\n",
    "size = {}.pop('size', mpl.rcParams['axes.labelsize'])\n",
    "template = ' | '.join(['{row_var} = {row_name}', '{col_var} = {col_name}'])\n",
    "template = utils.to_utf8(template)\n",
    "for i, row_name in enumerate(row_names):\n",
    "    for j, col_name in enumerate(col_names):\n",
    "        row_name = row_name\n",
    "        col_name = col_name\n",
    "        title = template.format(row_var='sex', col_var='day', row_name=\n",
    "            row_name, col_name=col_name)\n",
    "        axes[i, j].set_title(title, size=size)\n",
    "fig.tight_layout()"
   ]
  },
  {
   "cell_type": "code",
   "execution_count": null,
   "metadata": {
    "ExecuteTime": {
     "end_time": "2020-01-08T22:50:06.052961Z",
     "start_time": "2020-01-08T22:50:06.023437Z"
    },
    "code_folding": [],
    "hide_input": true,
    "scrolled": true
   },
   "outputs": [],
   "source": [
    "experiment_start('Task 2.2')"
   ]
  },
  {
   "cell_type": "code",
   "execution_count": null,
   "metadata": {},
   "outputs": [],
   "source": []
  },
  {
   "cell_type": "code",
   "execution_count": null,
   "metadata": {
    "ExecuteTime": {
     "end_time": "2020-01-08T22:50:06.087071Z",
     "start_time": "2020-01-08T22:50:06.054650Z"
    },
    "deletable": false,
    "editable": false,
    "hide_input": true,
    "scrolled": true
   },
   "outputs": [],
   "source": [
    "experiment_end('Task 2.2')"
   ]
  },
  {
   "cell_type": "markdown",
   "metadata": {},
   "source": [
    "### Task 2.3: Change colors to match boxplot\n",
    "\n",
    "By default, the FacetGrid plots each histogram the same shade of blue. You need to make each histogram have the same color of the corresponding boxplot in the previous code snippet.\n",
    "\n",
    "**Be careful that the colors are the exact same!** Check that the boxplot is not darker than the FacetGrid."
   ]
  },
  {
   "cell_type": "code",
   "execution_count": null,
   "metadata": {
    "ExecuteTime": {
     "end_time": "2020-01-09T21:47:44.909497Z",
     "start_time": "2020-01-09T21:47:42.560945Z"
    },
    "hide_input": true
   },
   "outputs": [],
   "source": [
    "palette = sns.color_palette(n_colors=4, desat=0.75)\n",
    "g = sns.FacetGrid(data=tips, row='sex', col='day', hue='day', palette=palette)\n",
    "_ = g.map(plt.hist, 'tip')"
   ]
  },
  {
   "cell_type": "code",
   "execution_count": null,
   "metadata": {
    "ExecuteTime": {
     "end_time": "2020-01-08T22:50:06.565728Z",
     "start_time": "2020-01-08T22:50:06.540386Z"
    },
    "code_folding": [],
    "hide_input": true,
    "scrolled": true
   },
   "outputs": [],
   "source": [
    "experiment_start('Task 2.3')"
   ]
  },
  {
   "cell_type": "code",
   "execution_count": null,
   "metadata": {
    "hide_input": false
   },
   "outputs": [],
   "source": []
  },
  {
   "cell_type": "code",
   "execution_count": null,
   "metadata": {
    "ExecuteTime": {
     "end_time": "2020-01-08T22:50:06.594303Z",
     "start_time": "2020-01-08T22:50:06.567445Z"
    },
    "hide_input": true,
    "scrolled": true
   },
   "outputs": [],
   "source": [
    "experiment_end('Task 2.3')"
   ]
  }
 ],
 "metadata": {
  "kernelspec": {
   "display_name": "Python 3",
   "language": "python",
   "name": "python3"
  },
  "language_info": {
   "codemirror_mode": {
    "name": "ipython",
    "version": 3
   },
   "file_extension": ".py",
   "mimetype": "text/x-python",
   "name": "python",
   "nbconvert_exporter": "python",
   "pygments_lexer": "ipython3",
   "version": "3.7.3"
  },
  "toc": {
   "base_numbering": 1,
   "nav_menu": {},
   "number_sections": true,
   "sideBar": true,
   "skip_h1_title": false,
   "title_cell": "Table of Contents",
   "title_sidebar": "Contents",
   "toc_cell": false,
   "toc_position": {},
   "toc_section_display": true,
   "toc_window_display": false
  },
  "varInspector": {
   "cols": {
    "lenName": 16,
    "lenType": 16,
    "lenVar": 40
   },
   "kernels_config": {
    "python": {
     "delete_cmd_postfix": "",
     "delete_cmd_prefix": "del ",
     "library": "var_list.py",
     "varRefreshCmd": "print(var_dic_list())"
    },
    "r": {
     "delete_cmd_postfix": ") ",
     "delete_cmd_prefix": "rm(",
     "library": "var_list.r",
     "varRefreshCmd": "cat(var_dic_list()) "
    }
   },
   "types_to_exclude": [
    "module",
    "function",
    "builtin_function_or_method",
    "instance",
    "_Feature"
   ],
   "window_display": false
  }
 },
 "nbformat": 4,
 "nbformat_minor": 2
}
